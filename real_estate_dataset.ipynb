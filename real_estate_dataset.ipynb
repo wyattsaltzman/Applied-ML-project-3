{
 "cells": [
  {
   "cell_type": "code",
   "execution_count": 42,
   "metadata": {},
   "outputs": [],
   "source": [
    "import pandas as pd\n",
    "import numpy as np\n",
    "%matplotlib inline\n",
    "import matplotlib.pyplot as plt\n",
    "import sklearn as sk\n",
    "import os"
   ]
  },
  {
   "cell_type": "code",
   "execution_count": 43,
   "metadata": {},
   "outputs": [
    {
     "data": {
      "text/html": [
       "<div>\n",
       "<style scoped>\n",
       "    .dataframe tbody tr th:only-of-type {\n",
       "        vertical-align: middle;\n",
       "    }\n",
       "\n",
       "    .dataframe tbody tr th {\n",
       "        vertical-align: top;\n",
       "    }\n",
       "\n",
       "    .dataframe thead th {\n",
       "        text-align: right;\n",
       "    }\n",
       "</style>\n",
       "<table border=\"1\" class=\"dataframe\">\n",
       "  <thead>\n",
       "    <tr style=\"text-align: right;\">\n",
       "      <th></th>\n",
       "      <th>Real_Estate_Id</th>\n",
       "      <th>Deeded_Acreage</th>\n",
       "      <th>Total_Sale_Price</th>\n",
       "      <th>Total_Sale_Date</th>\n",
       "      <th>Month_Year_of_Sale</th>\n",
       "      <th>Year_of_Sale</th>\n",
       "      <th>Year_Built</th>\n",
       "      <th>Year_Remodeled</th>\n",
       "      <th>Heated_Area</th>\n",
       "      <th>Num_Stories</th>\n",
       "      <th>Design_Style</th>\n",
       "      <th>Bath</th>\n",
       "      <th>Utilities</th>\n",
       "      <th>Physical_City</th>\n",
       "      <th>Physical_Zip</th>\n",
       "    </tr>\n",
       "  </thead>\n",
       "  <tbody>\n",
       "    <tr>\n",
       "      <th>0</th>\n",
       "      <td>19</td>\n",
       "      <td>0.21</td>\n",
       "      <td>34500</td>\n",
       "      <td>1/1/1974</td>\n",
       "      <td>January 1974</td>\n",
       "      <td>1974</td>\n",
       "      <td>1964</td>\n",
       "      <td>1964</td>\n",
       "      <td>1828</td>\n",
       "      <td>One Story</td>\n",
       "      <td>Split level</td>\n",
       "      <td>2 Bath</td>\n",
       "      <td>ALL</td>\n",
       "      <td>Raleigh</td>\n",
       "      <td>27610.0</td>\n",
       "    </tr>\n",
       "    <tr>\n",
       "      <th>1</th>\n",
       "      <td>20</td>\n",
       "      <td>0.46</td>\n",
       "      <td>35500</td>\n",
       "      <td>5/18/1983</td>\n",
       "      <td>May 1983</td>\n",
       "      <td>1983</td>\n",
       "      <td>1970</td>\n",
       "      <td>1970</td>\n",
       "      <td>1240</td>\n",
       "      <td>One Story</td>\n",
       "      <td>Conventional</td>\n",
       "      <td>1 Bath</td>\n",
       "      <td>E</td>\n",
       "      <td>Raleigh</td>\n",
       "      <td>27610.0</td>\n",
       "    </tr>\n",
       "    <tr>\n",
       "      <th>2</th>\n",
       "      <td>22</td>\n",
       "      <td>0.46</td>\n",
       "      <td>37500</td>\n",
       "      <td>9/16/2004</td>\n",
       "      <td>September 2004</td>\n",
       "      <td>2004</td>\n",
       "      <td>1900</td>\n",
       "      <td>1900</td>\n",
       "      <td>2261</td>\n",
       "      <td>One Story</td>\n",
       "      <td>Conventional</td>\n",
       "      <td>2 Bath</td>\n",
       "      <td>WSE</td>\n",
       "      <td>Wendell</td>\n",
       "      <td>27591.0</td>\n",
       "    </tr>\n",
       "    <tr>\n",
       "      <th>3</th>\n",
       "      <td>25</td>\n",
       "      <td>0.96</td>\n",
       "      <td>70000</td>\n",
       "      <td>1/1/1971</td>\n",
       "      <td>January 1971</td>\n",
       "      <td>1971</td>\n",
       "      <td>1971</td>\n",
       "      <td>1971</td>\n",
       "      <td>3770</td>\n",
       "      <td>One Story</td>\n",
       "      <td>Conventional</td>\n",
       "      <td>Other</td>\n",
       "      <td>WGE</td>\n",
       "      <td>Raleigh</td>\n",
       "      <td>27613.0</td>\n",
       "    </tr>\n",
       "    <tr>\n",
       "      <th>4</th>\n",
       "      <td>30</td>\n",
       "      <td>0.47</td>\n",
       "      <td>380000</td>\n",
       "      <td>8/12/2015</td>\n",
       "      <td>August 2015</td>\n",
       "      <td>2015</td>\n",
       "      <td>1946</td>\n",
       "      <td>2017</td>\n",
       "      <td>1789</td>\n",
       "      <td>One Story</td>\n",
       "      <td>Conventional</td>\n",
       "      <td>2 Bath</td>\n",
       "      <td>ALL</td>\n",
       "      <td>Raleigh</td>\n",
       "      <td>27607.0</td>\n",
       "    </tr>\n",
       "  </tbody>\n",
       "</table>\n",
       "</div>"
      ],
      "text/plain": [
       "   Real_Estate_Id  Deeded_Acreage  Total_Sale_Price Total_Sale_Date  \\\n",
       "0              19            0.21             34500        1/1/1974   \n",
       "1              20            0.46             35500       5/18/1983   \n",
       "2              22            0.46             37500       9/16/2004   \n",
       "3              25            0.96             70000        1/1/1971   \n",
       "4              30            0.47            380000       8/12/2015   \n",
       "\n",
       "  Month_Year_of_Sale  Year_of_Sale  Year_Built  Year_Remodeled  Heated_Area  \\\n",
       "0       January 1974          1974        1964            1964         1828   \n",
       "1           May 1983          1983        1970            1970         1240   \n",
       "2     September 2004          2004        1900            1900         2261   \n",
       "3       January 1971          1971        1971            1971         3770   \n",
       "4        August 2015          2015        1946            2017         1789   \n",
       "\n",
       "  Num_Stories  Design_Style    Bath Utilities Physical_City  Physical_Zip  \n",
       "0   One Story   Split level  2 Bath       ALL       Raleigh       27610.0  \n",
       "1   One Story  Conventional  1 Bath         E       Raleigh       27610.0  \n",
       "2   One Story  Conventional  2 Bath       WSE       Wendell       27591.0  \n",
       "3   One Story  Conventional   Other       WGE       Raleigh       27613.0  \n",
       "4   One Story  Conventional  2 Bath       ALL       Raleigh       27607.0  "
      ]
     },
     "execution_count": 43,
     "metadata": {},
     "output_type": "execute_result"
    }
   ],
   "source": [
    "#loading in real estate dataset\n",
    "real_estate = pd.read_csv('datasets/WakeCountyHousing.csv')\n",
    "real_estate.head()\n"
   ]
  },
  {
   "cell_type": "code",
   "execution_count": 44,
   "metadata": {},
   "outputs": [
    {
     "name": "stdout",
     "output_type": "stream",
     "text": [
      "<class 'pandas.core.frame.DataFrame'>\n",
      "RangeIndex: 308292 entries, 0 to 308291\n",
      "Data columns (total 15 columns):\n",
      " #   Column              Non-Null Count   Dtype  \n",
      "---  ------              --------------   -----  \n",
      " 0   Real_Estate_Id      308292 non-null  int64  \n",
      " 1   Deeded_Acreage      308292 non-null  float64\n",
      " 2   Total_Sale_Price    308292 non-null  int64  \n",
      " 3   Total_Sale_Date     308292 non-null  object \n",
      " 4   Month_Year_of_Sale  308292 non-null  object \n",
      " 5   Year_of_Sale        308292 non-null  int64  \n",
      " 6   Year_Built          308292 non-null  int64  \n",
      " 7   Year_Remodeled      308292 non-null  int64  \n",
      " 8   Heated_Area         308292 non-null  int64  \n",
      " 9   Num_Stories         308292 non-null  object \n",
      " 10  Design_Style        308292 non-null  object \n",
      " 11  Bath                308275 non-null  object \n",
      " 12  Utilities           306324 non-null  object \n",
      " 13  Physical_City       308183 non-null  object \n",
      " 14  Physical_Zip        308146 non-null  float64\n",
      "dtypes: float64(2), int64(6), object(7)\n",
      "memory usage: 35.3+ MB\n"
     ]
    }
   ],
   "source": [
    "real_estate.info()"
   ]
  },
  {
   "cell_type": "markdown",
   "metadata": {},
   "source": [
    "### Cleaning the Data"
   ]
  },
  {
   "cell_type": "code",
   "execution_count": 45,
   "metadata": {},
   "outputs": [
    {
     "name": "stdout",
     "output_type": "stream",
     "text": [
      "<class 'pandas.core.frame.DataFrame'>\n",
      "Int64Index: 306161 entries, 0 to 308291\n",
      "Data columns (total 15 columns):\n",
      " #   Column              Non-Null Count   Dtype  \n",
      "---  ------              --------------   -----  \n",
      " 0   Real_Estate_Id      306161 non-null  int64  \n",
      " 1   Deeded_Acreage      306161 non-null  float64\n",
      " 2   Total_Sale_Price    306161 non-null  int64  \n",
      " 3   Total_Sale_Date     306161 non-null  object \n",
      " 4   Month_Year_of_Sale  306161 non-null  object \n",
      " 5   Year_of_Sale        306161 non-null  int64  \n",
      " 6   Year_Built          306161 non-null  int64  \n",
      " 7   Year_Remodeled      306161 non-null  int64  \n",
      " 8   Heated_Area         306161 non-null  int64  \n",
      " 9   Num_Stories         306161 non-null  object \n",
      " 10  Design_Style        306161 non-null  object \n",
      " 11  Bath                306161 non-null  object \n",
      " 12  Utilities           306161 non-null  object \n",
      " 13  Physical_City       306161 non-null  object \n",
      " 14  Physical_Zip        306161 non-null  float64\n",
      "dtypes: float64(2), int64(6), object(7)\n",
      "memory usage: 37.4+ MB\n"
     ]
    }
   ],
   "source": [
    "real_estate = real_estate.dropna()\n",
    "real_estate.info()"
   ]
  },
  {
   "cell_type": "code",
   "execution_count": 46,
   "metadata": {},
   "outputs": [
    {
     "data": {
      "text/html": [
       "<div>\n",
       "<style scoped>\n",
       "    .dataframe tbody tr th:only-of-type {\n",
       "        vertical-align: middle;\n",
       "    }\n",
       "\n",
       "    .dataframe tbody tr th {\n",
       "        vertical-align: top;\n",
       "    }\n",
       "\n",
       "    .dataframe thead th {\n",
       "        text-align: right;\n",
       "    }\n",
       "</style>\n",
       "<table border=\"1\" class=\"dataframe\">\n",
       "  <thead>\n",
       "    <tr style=\"text-align: right;\">\n",
       "      <th></th>\n",
       "      <th>Deeded_Acreage</th>\n",
       "      <th>Total_Sale_Price</th>\n",
       "      <th>Year_of_Sale</th>\n",
       "      <th>Year_Built</th>\n",
       "      <th>Year_Remodeled</th>\n",
       "      <th>Heated_Area</th>\n",
       "      <th>Num_Stories</th>\n",
       "      <th>Design_Style</th>\n",
       "      <th>Bath</th>\n",
       "      <th>Utilities</th>\n",
       "      <th>Physical_Zip</th>\n",
       "    </tr>\n",
       "  </thead>\n",
       "  <tbody>\n",
       "    <tr>\n",
       "      <th>0</th>\n",
       "      <td>0.21</td>\n",
       "      <td>34500</td>\n",
       "      <td>1974</td>\n",
       "      <td>1964</td>\n",
       "      <td>1964</td>\n",
       "      <td>1828</td>\n",
       "      <td>One Story</td>\n",
       "      <td>Split level</td>\n",
       "      <td>2 Bath</td>\n",
       "      <td>ALL</td>\n",
       "      <td>27610.0</td>\n",
       "    </tr>\n",
       "    <tr>\n",
       "      <th>1</th>\n",
       "      <td>0.46</td>\n",
       "      <td>35500</td>\n",
       "      <td>1983</td>\n",
       "      <td>1970</td>\n",
       "      <td>1970</td>\n",
       "      <td>1240</td>\n",
       "      <td>One Story</td>\n",
       "      <td>Conventional</td>\n",
       "      <td>1 Bath</td>\n",
       "      <td>E</td>\n",
       "      <td>27610.0</td>\n",
       "    </tr>\n",
       "    <tr>\n",
       "      <th>2</th>\n",
       "      <td>0.46</td>\n",
       "      <td>37500</td>\n",
       "      <td>2004</td>\n",
       "      <td>1900</td>\n",
       "      <td>1900</td>\n",
       "      <td>2261</td>\n",
       "      <td>One Story</td>\n",
       "      <td>Conventional</td>\n",
       "      <td>2 Bath</td>\n",
       "      <td>WSE</td>\n",
       "      <td>27591.0</td>\n",
       "    </tr>\n",
       "    <tr>\n",
       "      <th>3</th>\n",
       "      <td>0.96</td>\n",
       "      <td>70000</td>\n",
       "      <td>1971</td>\n",
       "      <td>1971</td>\n",
       "      <td>1971</td>\n",
       "      <td>3770</td>\n",
       "      <td>One Story</td>\n",
       "      <td>Conventional</td>\n",
       "      <td>Other</td>\n",
       "      <td>WGE</td>\n",
       "      <td>27613.0</td>\n",
       "    </tr>\n",
       "    <tr>\n",
       "      <th>4</th>\n",
       "      <td>0.47</td>\n",
       "      <td>380000</td>\n",
       "      <td>2015</td>\n",
       "      <td>1946</td>\n",
       "      <td>2017</td>\n",
       "      <td>1789</td>\n",
       "      <td>One Story</td>\n",
       "      <td>Conventional</td>\n",
       "      <td>2 Bath</td>\n",
       "      <td>ALL</td>\n",
       "      <td>27607.0</td>\n",
       "    </tr>\n",
       "  </tbody>\n",
       "</table>\n",
       "</div>"
      ],
      "text/plain": [
       "   Deeded_Acreage  Total_Sale_Price  Year_of_Sale  Year_Built  Year_Remodeled  \\\n",
       "0            0.21             34500          1974        1964            1964   \n",
       "1            0.46             35500          1983        1970            1970   \n",
       "2            0.46             37500          2004        1900            1900   \n",
       "3            0.96             70000          1971        1971            1971   \n",
       "4            0.47            380000          2015        1946            2017   \n",
       "\n",
       "   Heated_Area Num_Stories  Design_Style    Bath Utilities  Physical_Zip  \n",
       "0         1828   One Story   Split level  2 Bath       ALL       27610.0  \n",
       "1         1240   One Story  Conventional  1 Bath         E       27610.0  \n",
       "2         2261   One Story  Conventional  2 Bath       WSE       27591.0  \n",
       "3         3770   One Story  Conventional   Other       WGE       27613.0  \n",
       "4         1789   One Story  Conventional  2 Bath       ALL       27607.0  "
      ]
     },
     "execution_count": 46,
     "metadata": {},
     "output_type": "execute_result"
    }
   ],
   "source": [
    "#removing data that is not useful\n",
    "real_estate = real_estate.drop(['Real_Estate_Id', 'Physical_City', 'Total_Sale_Date', 'Month_Year_of_Sale'], axis=1)\n",
    "real_estate.head()"
   ]
  },
  {
   "cell_type": "markdown",
   "metadata": {},
   "source": [
    "### Creating a Test and Train Set"
   ]
  },
  {
   "cell_type": "code",
   "execution_count": 47,
   "metadata": {},
   "outputs": [
    {
     "name": "stdout",
     "output_type": "stream",
     "text": [
      "(244928, 11)\n",
      "(61233, 11)\n"
     ]
    }
   ],
   "source": [
    "from sklearn.model_selection import train_test_split\n",
    "train_set, test_set = train_test_split(real_estate, test_size=0.2, random_state=42)\n",
    "\n",
    "print(train_set.shape)\n",
    "print(test_set.shape)\n",
    "\n",
    "real_estate = train_set"
   ]
  },
  {
   "cell_type": "code",
   "execution_count": 8,
   "metadata": {},
   "outputs": [],
   "source": [
    "real_estate_labels = real_estate['Total_Sale_Price']\n",
    "real_estate = real_estate.drop(['Total_Sale_Price'], axis=1)\n",
    "\n",
    "real_estate_num = real_estate[['Deeded_Acreage', 'Heated_Area']]\n",
    "real_estate_cat = real_estate[['Year_of_Sale', 'Year_Built', 'Year_Remodeled', 'Num_Stories', 'Design_Style', 'Bath', 'Utilities', 'Physical_Zip']]"
   ]
  },
  {
   "cell_type": "markdown",
   "metadata": {},
   "source": [
    "### Ordinal Encoder"
   ]
  },
  {
   "cell_type": "code",
   "execution_count": 48,
   "metadata": {},
   "outputs": [
    {
     "data": {
      "text/plain": [
       "array([[ 58., 156., 154.,   1.,   4.,   5.,   0.,  29.],\n",
       "       [ 59., 160., 158.,   1.,   4.,   5.,   3.,  33.],\n",
       "       [ 29., 108., 106.,   2.,   4.,   2.,  13.,  18.],\n",
       "       [ 40., 124., 122.,   1.,  13.,   3.,   0.,  34.],\n",
       "       [ 55., 147., 145.,   1.,  13.,   3.,   0.,  29.],\n",
       "       [ 61., 135., 133.,   2.,   4.,   6.,   0.,  24.],\n",
       "       [ 42., 143., 141.,   0.,   4.,   2.,   9.,  23.],\n",
       "       [ 60., 106., 104.,   0.,  12.,   1.,   0.,  30.],\n",
       "       [ 52., 146., 144.,   1.,  13.,   3.,   0.,  28.],\n",
       "       [ 58., 110., 108.,   1.,   4.,   3.,   0.,  29.]])"
      ]
     },
     "execution_count": 48,
     "metadata": {},
     "output_type": "execute_result"
    }
   ],
   "source": [
    "from sklearn.preprocessing import OrdinalEncoder\n",
    "ordinal_encoder = OrdinalEncoder()\n",
    "real_estate_cat_encoded = ordinal_encoder.fit_transform(real_estate_cat)\n",
    "real_estate_cat_encoded[:10]"
   ]
  },
  {
   "cell_type": "code",
   "execution_count": 49,
   "metadata": {},
   "outputs": [
    {
     "data": {
      "text/plain": [
       "[array([1956, 1958, 1961, 1962, 1963, 1964, 1965, 1966, 1967, 1968, 1969,\n",
       "        1970, 1971, 1972, 1973, 1974, 1975, 1976, 1977, 1978, 1979, 1980,\n",
       "        1981, 1982, 1983, 1984, 1985, 1986, 1987, 1988, 1989, 1990, 1991,\n",
       "        1992, 1993, 1994, 1995, 1996, 1997, 1998, 1999, 2000, 2001, 2002,\n",
       "        2003, 2004, 2005, 2006, 2007, 2008, 2009, 2010, 2011, 2012, 2013,\n",
       "        2014, 2015, 2016, 2017, 2018, 2019, 2020, 2021]),\n",
       " array([   0, 1800, 1814, 1820, 1835, 1840, 1841, 1845, 1848, 1850, 1852,\n",
       "        1854, 1855, 1856, 1860, 1865, 1867, 1868, 1870, 1871, 1872, 1875,\n",
       "        1876, 1877, 1879, 1880, 1882, 1883, 1884, 1885, 1886, 1887, 1888,\n",
       "        1889, 1890, 1891, 1892, 1893, 1894, 1895, 1896, 1898, 1899, 1900,\n",
       "        1901, 1902, 1903, 1904, 1905, 1906, 1907, 1908, 1909, 1910, 1911,\n",
       "        1912, 1913, 1914, 1915, 1916, 1917, 1918, 1919, 1920, 1921, 1922,\n",
       "        1923, 1924, 1925, 1926, 1927, 1928, 1929, 1930, 1931, 1932, 1933,\n",
       "        1934, 1935, 1936, 1937, 1938, 1939, 1940, 1941, 1942, 1943, 1944,\n",
       "        1945, 1946, 1947, 1948, 1949, 1950, 1951, 1952, 1953, 1954, 1955,\n",
       "        1956, 1957, 1958, 1959, 1960, 1961, 1962, 1963, 1964, 1965, 1966,\n",
       "        1967, 1968, 1969, 1970, 1971, 1972, 1973, 1974, 1975, 1976, 1977,\n",
       "        1978, 1979, 1980, 1981, 1982, 1983, 1984, 1985, 1986, 1987, 1988,\n",
       "        1989, 1990, 1991, 1992, 1993, 1994, 1995, 1996, 1997, 1998, 1999,\n",
       "        2000, 2001, 2002, 2003, 2004, 2005, 2006, 2007, 2008, 2009, 2010,\n",
       "        2011, 2012, 2013, 2014, 2015, 2016, 2017, 2018, 2019, 2020, 2021,\n",
       "        2022]),\n",
       " array([   0, 1814, 1820, 1835, 1840, 1841, 1845, 1850, 1852, 1854, 1855,\n",
       "        1856, 1860, 1865, 1867, 1868, 1870, 1871, 1872, 1875, 1876, 1877,\n",
       "        1879, 1880, 1882, 1883, 1884, 1885, 1886, 1887, 1888, 1889, 1890,\n",
       "        1891, 1892, 1893, 1894, 1895, 1896, 1898, 1899, 1900, 1901, 1902,\n",
       "        1903, 1904, 1905, 1906, 1907, 1908, 1909, 1910, 1911, 1912, 1913,\n",
       "        1914, 1915, 1916, 1917, 1918, 1919, 1920, 1921, 1922, 1923, 1924,\n",
       "        1925, 1926, 1927, 1928, 1929, 1930, 1931, 1932, 1933, 1934, 1935,\n",
       "        1936, 1937, 1938, 1939, 1940, 1941, 1942, 1943, 1944, 1945, 1946,\n",
       "        1947, 1948, 1949, 1950, 1951, 1952, 1953, 1954, 1955, 1956, 1957,\n",
       "        1958, 1959, 1960, 1961, 1962, 1963, 1964, 1965, 1966, 1967, 1968,\n",
       "        1969, 1970, 1971, 1972, 1973, 1974, 1975, 1976, 1977, 1978, 1979,\n",
       "        1980, 1981, 1982, 1983, 1984, 1985, 1986, 1987, 1988, 1989, 1990,\n",
       "        1991, 1992, 1993, 1994, 1995, 1996, 1997, 1998, 1999, 2000, 2001,\n",
       "        2002, 2003, 2004, 2005, 2006, 2007, 2008, 2009, 2010, 2011, 2012,\n",
       "        2013, 2014, 2015, 2016, 2017, 2018, 2019, 2020, 2021, 2022, 2209]),\n",
       " array(['One Story', 'Other', 'Two Story'], dtype=object),\n",
       " array(['Cape', 'Colonial', 'Condo', 'Contemporary', 'Conventional',\n",
       "        'Conversion', 'Duplex', 'Log', 'Manuf Multi', 'Modular', 'Ranch',\n",
       "        'Split Foyer', 'Split level', 'Townhouse'], dtype=object),\n",
       " array(['1 Bath', '1 ½ Bath', '2 Bath', '2½ Bath', '3 Bath', '3½ Bath',\n",
       "        'Other'], dtype=object),\n",
       " array(['ALL', 'E', 'G', 'GE', 'S', 'SE', 'SG', 'SGE', 'W', 'WE', 'WG',\n",
       "        'WGE', 'WS', 'WSE', 'WSG'], dtype=object),\n",
       " array([27501., 27502., 27511., 27513., 27518., 27519., 27520., 27522.,\n",
       "        27523., 27526., 27529., 27539., 27540., 27545., 27560., 27562.,\n",
       "        27571., 27587., 27591., 27592., 27596., 27597., 27601., 27603.,\n",
       "        27604., 27605., 27606., 27607., 27608., 27609., 27610., 27612.,\n",
       "        27613., 27614., 27615., 27616., 27617., 27703., 27713.])]"
      ]
     },
     "execution_count": 49,
     "metadata": {},
     "output_type": "execute_result"
    }
   ],
   "source": [
    "#view corresponding categories\n",
    "ordinal_encoder.categories_"
   ]
  },
  {
   "cell_type": "markdown",
   "metadata": {},
   "source": [
    "### Scaling, Normalizing and Standardizing Numerical Features with StandardScaler"
   ]
  },
  {
   "cell_type": "code",
   "execution_count": 50,
   "metadata": {},
   "outputs": [
    {
     "data": {
      "text/plain": [
       "array([[ 1.24720899e-01,  4.01266785e+00],\n",
       "       [ 4.19795655e-01,  2.91792939e+00],\n",
       "       [-8.07775913e-02, -2.38499420e-01],\n",
       "       [-2.17776585e-01, -8.72401285e-01],\n",
       "       [-2.17776585e-01, -1.07363997e+00],\n",
       "       [-1.59815472e-01, -7.52664266e-01],\n",
       "       [ 2.46062501e-02, -9.49878180e-01],\n",
       "       [ 3.52948181e-03, -4.97091133e-01],\n",
       "       [-2.23045777e-01, -6.29908667e-01],\n",
       "       [-5.97008230e-02,  1.00303594e-02]])"
      ]
     },
     "execution_count": 50,
     "metadata": {},
     "output_type": "execute_result"
    }
   ],
   "source": [
    "#the standard scaler package scales, normalizes and standardizes data\n",
    "from sklearn.preprocessing import StandardScaler\n",
    "std_scale = StandardScaler()\n",
    "real_estate_num_scaled = std_scale.fit_transform(real_estate_num)\n",
    "real_estate_num_scaled[:10]"
   ]
  },
  {
   "cell_type": "markdown",
   "metadata": {},
   "source": [
    "### Preparing Data for Predictions"
   ]
  },
  {
   "cell_type": "code",
   "execution_count": 51,
   "metadata": {},
   "outputs": [
    {
     "data": {
      "text/plain": [
       "array([[ 1.24720899e-01,  4.01266785e+00,  5.80000000e+01, ...,\n",
       "         5.00000000e+00,  0.00000000e+00,  2.90000000e+01],\n",
       "       [ 4.19795655e-01,  2.91792939e+00,  5.90000000e+01, ...,\n",
       "         5.00000000e+00,  3.00000000e+00,  3.30000000e+01],\n",
       "       [-8.07775913e-02, -2.38499420e-01,  2.90000000e+01, ...,\n",
       "         2.00000000e+00,  1.30000000e+01,  1.80000000e+01],\n",
       "       ...,\n",
       "       [-5.97008230e-02,  1.18627049e+00,  4.30000000e+01, ...,\n",
       "         5.00000000e+00,  0.00000000e+00,  3.00000000e+00],\n",
       "       [-2.07238201e-01, -8.39196902e-01,  6.00000000e+01, ...,\n",
       "         3.00000000e+00,  0.00000000e+00,  2.40000000e+01],\n",
       "       [-5.44316309e-02, -3.93453209e-01,  6.00000000e+01, ...,\n",
       "         3.00000000e+00,  0.00000000e+00,  3.00000000e+00]])"
      ]
     },
     "execution_count": 51,
     "metadata": {},
     "output_type": "execute_result"
    }
   ],
   "source": [
    "#small pipeline for numerical attributes using skcikit learns Pipeline class\n",
    "from sklearn.pipeline import Pipeline\n",
    "from sklearn.preprocessing import StandardScaler\n",
    "from sklearn.compose import ColumnTransformer\n",
    "\n",
    "num_attribs = list(real_estate_num)\n",
    "cat_attribs = list(real_estate_cat)\n",
    "\n",
    "full_pipeline = ColumnTransformer([\n",
    "        (\"num\", StandardScaler(), num_attribs),\n",
    "        (\"cat\", OrdinalEncoder(), cat_attribs),\n",
    "    ])\n",
    "\n",
    "\n",
    "real_estate_prep = full_pipeline.fit_transform(real_estate)\n",
    "real_estate_prep"
   ]
  },
  {
   "cell_type": "markdown",
   "metadata": {},
   "source": [
    "### Analyzing Prices to Come up with Classes\n"
   ]
  },
  {
   "cell_type": "code",
   "execution_count": 52,
   "metadata": {},
   "outputs": [
    {
     "data": {
      "text/plain": [
       "count    2.449280e+05\n",
       "mean     2.731229e+05\n",
       "std      1.893739e+05\n",
       "min      0.000000e+00\n",
       "25%      1.500000e+05\n",
       "50%      2.350000e+05\n",
       "75%      3.500000e+05\n",
       "max      6.100200e+06\n",
       "Name: Total_Sale_Price, dtype: float64"
      ]
     },
     "execution_count": 52,
     "metadata": {},
     "output_type": "execute_result"
    }
   ],
   "source": [
    "real_estate_labels.describe()"
   ]
  },
  {
   "cell_type": "markdown",
   "metadata": {},
   "source": [
    "I will classify with expensive vs not-expensive. If the price is within the 4th quartile, it is expensive."
   ]
  },
  {
   "cell_type": "code",
   "execution_count": 14,
   "metadata": {},
   "outputs": [],
   "source": [
    "real_estate_train_exp = (real_estate_labels >= 3.500000e+05)"
   ]
  },
  {
   "cell_type": "markdown",
   "metadata": {},
   "source": [
    "### Use SGDClassifier"
   ]
  },
  {
   "cell_type": "code",
   "execution_count": 53,
   "metadata": {},
   "outputs": [
    {
     "data": {
      "text/plain": [
       "SGDClassifier(random_state=42)"
      ]
     },
     "execution_count": 53,
     "metadata": {},
     "output_type": "execute_result"
    }
   ],
   "source": [
    "from sklearn.linear_model import SGDClassifier\n",
    "\n",
    "sgd_clf = SGDClassifier(random_state=42)\n",
    "sgd_clf.fit(real_estate_prep, real_estate_train_exp)"
   ]
  },
  {
   "cell_type": "markdown",
   "metadata": {},
   "source": [
    "### Use StratifiedKFold Cross Validation"
   ]
  },
  {
   "cell_type": "code",
   "execution_count": 66,
   "metadata": {},
   "outputs": [
    {
     "name": "stdout",
     "output_type": "stream",
     "text": [
      "0.8777849907524221\n",
      "0.8758374875984469\n",
      "0.8710345165478552\n"
     ]
    }
   ],
   "source": [
    "from sklearn.model_selection import StratifiedKFold\n",
    "from sklearn.base import clone\n",
    "\n",
    "skfolds = StratifiedKFold(n_splits=3, shuffle=True, random_state=42)\n",
    "\n",
    "exp_array = real_estate_train_exp.to_numpy()\n",
    "\n",
    "for train_index, test_index in skfolds.split(real_estate_prep, exp_array):\n",
    "    clone_clf = clone(sgd_clf)\n",
    "    X_train_folds = real_estate_prep[train_index]\n",
    "    y_train_folds = exp_array[train_index]\n",
    "    X_test_fold = real_estate_prep[test_index]\n",
    "    y_test_fold = exp_array[test_index]\n",
    "\n",
    "    clone_clf.fit(X_train_folds, y_train_folds)\n",
    "    y_pred = clone_clf.predict(X_test_fold)\n",
    "    n_correct = sum(y_pred == y_test_fold)\n",
    "    print(n_correct / len(y_pred))\n",
    "\n"
   ]
  },
  {
   "cell_type": "markdown",
   "metadata": {},
   "source": [
    "### Generate a Confusion Matrix"
   ]
  },
  {
   "cell_type": "code",
   "execution_count": 16,
   "metadata": {},
   "outputs": [],
   "source": [
    "from sklearn.model_selection import cross_val_predict\n",
    "sgd_pred = cross_val_predict(sgd_clf, real_estate_prep, real_estate_train_exp, cv=3)"
   ]
  },
  {
   "cell_type": "code",
   "execution_count": 17,
   "metadata": {},
   "outputs": [
    {
     "data": {
      "text/plain": [
       "array([[163007,  19703],\n",
       "       [ 16699,  45519]])"
      ]
     },
     "execution_count": 17,
     "metadata": {},
     "output_type": "execute_result"
    }
   ],
   "source": [
    "from sklearn.metrics import confusion_matrix\n",
    "\n",
    "confusion_matrix(real_estate_train_exp, sgd_pred)"
   ]
  },
  {
   "cell_type": "markdown",
   "metadata": {},
   "source": [
    "### Generate a ROC Curve"
   ]
  },
  {
   "cell_type": "code",
   "execution_count": 18,
   "metadata": {},
   "outputs": [],
   "source": [
    "from sklearn.metrics import roc_curve\n",
    "sgd_scores = cross_val_predict(sgd_clf, real_estate_prep, real_estate_train_exp, cv=3, method =\"decision_function\")\n",
    "\n",
    "fpr, tpr, thresholds = roc_curve(real_estate_train_exp, sgd_scores)"
   ]
  },
  {
   "cell_type": "code",
   "execution_count": 19,
   "metadata": {},
   "outputs": [
    {
     "data": {
      "image/png": "[encoded data removed]",
      "text/plain": [
       "<Figure size 432x288 with 1 Axes>"
      ]
     },
     "metadata": {
      "needs_background": "light"
     },
     "output_type": "display_data"
    }
   ],
   "source": [
    "def plot_roc_curve(fpr, tpr, label=None):\n",
    "    plt.plot(fpr, tpr, linewidth=2, label=label)\n",
    "    plt.plot([0, 1], [0, 1], 'k--') # Dashed diagonal\n",
    "    plt.xlabel(\"False Positive Rate\")\n",
    "    plt.ylabel(\"True Positive Rate (Recall)\")\n",
    "    plt.grid()\n",
    "\n",
    "\n",
    "plot_roc_curve(fpr, tpr)\n",
    "plt.show()\n"
   ]
  },
  {
   "cell_type": "code",
   "execution_count": 20,
   "metadata": {},
   "outputs": [
    {
     "data": {
      "text/plain": [
       "0.9093334438983549"
      ]
     },
     "execution_count": 20,
     "metadata": {},
     "output_type": "execute_result"
    }
   ],
   "source": [
    "from sklearn.metrics import roc_auc_score\n",
    "roc_auc_score(real_estate_train_exp, sgd_scores)"
   ]
  },
  {
   "cell_type": "markdown",
   "metadata": {},
   "source": [
    "### Use Random Forest Classifier"
   ]
  },
  {
   "cell_type": "code",
   "execution_count": 21,
   "metadata": {},
   "outputs": [],
   "source": [
    "from sklearn.ensemble import RandomForestClassifier\n",
    "\n",
    "forest_clf = RandomForestClassifier(random_state=42)\n",
    "forest_probs = cross_val_predict(forest_clf, real_estate_prep, real_estate_train_exp, cv=3, method=\"predict_proba\")\n",
    "\n",
    "forest_scores = forest_probs[:,1]"
   ]
  },
  {
   "cell_type": "code",
   "execution_count": 22,
   "metadata": {},
   "outputs": [],
   "source": [
    "fpr_forest, tpr_forest, thresholds_forest = roc_curve(real_estate_train_exp,forest_scores)"
   ]
  },
  {
   "cell_type": "code",
   "execution_count": 23,
   "metadata": {},
   "outputs": [
    {
     "data": {
      "image/png": "[encoded data removed]",
      "text/plain": [
       "<Figure size 432x288 with 1 Axes>"
      ]
     },
     "metadata": {
      "needs_background": "light"
     },
     "output_type": "display_data"
    }
   ],
   "source": [
    "plt.plot(fpr, tpr, \"b:\", label=\"SGD\")\n",
    "plot_roc_curve(fpr_forest, tpr_forest, \"Random Forest\")\n",
    "plt.legend(loc=\"lower right\")\n",
    "plt.show()"
   ]
  },
  {
   "cell_type": "code",
   "execution_count": 24,
   "metadata": {},
   "outputs": [
    {
     "data": {
      "text/plain": [
       "0.9788256163228771"
      ]
     },
     "execution_count": 24,
     "metadata": {},
     "output_type": "execute_result"
    }
   ],
   "source": [
    "roc_auc_score(real_estate_train_exp, forest_scores)"
   ]
  },
  {
   "cell_type": "markdown",
   "metadata": {},
   "source": [
    "### Creating Multiple Class Labels"
   ]
  },
  {
   "cell_type": "code",
   "execution_count": 60,
   "metadata": {},
   "outputs": [
    {
     "name": "stdout",
     "output_type": "stream",
     "text": [
      "6054      1365000\n",
      "286956    1450000\n",
      "46456       75000\n",
      "62726      106000\n",
      "196513     122500\n",
      "           ...   \n",
      "120252     215000\n",
      "260963     265000\n",
      "132371     355000\n",
      "147398     171000\n",
      "122342     315000\n",
      "Name: Total_Sale_Price, Length: 244928, dtype: int64\n",
      "6054         high\n",
      "286956       high\n",
      "46456         low\n",
      "62726         low\n",
      "196513        low\n",
      "105195    mid-low\n",
      "169307        low\n",
      "17934     mid-low\n",
      "196249    mid-low\n",
      "32206        high\n",
      "Name: Total_Sale_Price, dtype: object\n"
     ]
    }
   ],
   "source": [
    "#creating 4 brackets for the house prices\n",
    "mult_labels = real_estate_labels.copy()\n",
    "for idx in real_estate_labels.index.to_list():\n",
    "    if real_estate_labels[idx] <= 1.500000e+05:\n",
    "        mult_labels[idx] = \"low\"\n",
    "    elif real_estate_labels[idx] <= 2.350000e+05:\n",
    "        mult_labels[idx] = \"mid-low\"\n",
    "    elif real_estate_labels[idx] <= 3.500000e+05:\n",
    "        mult_labels[idx] = \"mid-high\"\n",
    "    elif real_estate_labels[idx] <= 6.100200e+06:\n",
    "        mult_labels[idx] = \"high\"\n",
    "\n",
    "print(real_estate_labels)\n",
    "print(mult_labels[:10])"
   ]
  },
  {
   "cell_type": "markdown",
   "metadata": {},
   "source": [
    "### Use OvR Classifier"
   ]
  },
  {
   "cell_type": "code",
   "execution_count": 28,
   "metadata": {},
   "outputs": [
    {
     "data": {
      "text/plain": [
       "OneVsRestClassifier(estimator=SGDClassifier())"
      ]
     },
     "execution_count": 28,
     "metadata": {},
     "output_type": "execute_result"
    }
   ],
   "source": [
    "from sklearn.multiclass import OneVsRestClassifier\n",
    "\n",
    "ovr_clf = OneVsRestClassifier(SGDClassifier())\n",
    "ovr_clf.fit(real_estate_prep, mult_labels)"
   ]
  },
  {
   "cell_type": "code",
   "execution_count": 40,
   "metadata": {},
   "outputs": [
    {
     "name": "stdout",
     "output_type": "stream",
     "text": [
      "4\n",
      "['high']\n"
     ]
    },
    {
     "data": {
      "text/plain": [
       "array([[ 144.26630938, -375.51115345,   -1.4997718 ,   -7.28540261]])"
      ]
     },
     "execution_count": 40,
     "metadata": {},
     "output_type": "execute_result"
    }
   ],
   "source": [
    "print(len(ovr_clf.estimators_))\n",
    "\n",
    "print(ovr_clf.predict([real_estate_prep[1]]))\n",
    "ovr_clf.decision_function([real_estate_prep[1]])\n"
   ]
  },
  {
   "cell_type": "markdown",
   "metadata": {},
   "source": [
    "### Use KNeighbors Classifier"
   ]
  },
  {
   "cell_type": "code",
   "execution_count": 61,
   "metadata": {},
   "outputs": [
    {
     "data": {
      "text/plain": [
       "array([[False, False]])"
      ]
     },
     "execution_count": 61,
     "metadata": {},
     "output_type": "execute_result"
    }
   ],
   "source": [
    "from sklearn.neighbors import KNeighborsClassifier\n",
    "\n",
    "real_estate_train_cheap = (real_estate_labels <= 1.500000e+05)\n",
    "exp_or_cheap = np.c_[real_estate_train_exp,real_estate_train_cheap]\n",
    "\n",
    "knn_clf = KNeighborsClassifier()\n",
    "knn_clf.fit(real_estate_prep, exp_or_cheap)\n",
    "knn_clf.predict([real_estate_prep[5]])"
   ]
  }
 ],
 "metadata": {
  "interpreter": {
   "hash": "4f9cea7c49783f1fc7b44157107d925b008f247db1fd1068691671db8e91201a"
  },
  "kernelspec": {
   "display_name": "Python 3.7.11 ('AppliedMLenv')",
   "language": "python",
   "name": "python3"
  },
  "language_info": {
   "codemirror_mode": {
    "name": "ipython",
    "version": 3
   },
   "file_extension": ".py",
   "mimetype": "text/x-python",
   "name": "python",
   "nbconvert_exporter": "python",
   "pygments_lexer": "ipython3",
   "version": "3.7.11"
  },
  "orig_nbformat": 4
 },
 "nbformat": 4,
 "nbformat_minor": 2
}

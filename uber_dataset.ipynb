{
 "cells": [
  {
   "cell_type": "code",
   "execution_count": 5,
   "metadata": {},
   "outputs": [],
   "source": [
    "import pandas as pd\n",
    "import numpy as np\n",
    "%matplotlib inline\n",
    "import matplotlib.pyplot as plt\n",
    "import sklearn as sk\n",
    "import os\n"
   ]
  },
  {
   "cell_type": "code",
   "execution_count": 33,
   "metadata": {},
   "outputs": [],
   "source": [
    "#function for loading in datasets as dataframes\n",
    "def load_data(rel_path):\n",
    "    return pd.read_csv(rel_path)\n"
   ]
  },
  {
   "cell_type": "code",
   "execution_count": 37,
   "metadata": {},
   "outputs": [
    {
     "data": {
      "text/html": [
       "<div>\n",
       "<style scoped>\n",
       "    .dataframe tbody tr th:only-of-type {\n",
       "        vertical-align: middle;\n",
       "    }\n",
       "\n",
       "    .dataframe tbody tr th {\n",
       "        vertical-align: top;\n",
       "    }\n",
       "\n",
       "    .dataframe thead th {\n",
       "        text-align: right;\n",
       "    }\n",
       "</style>\n",
       "<table border=\"1\" class=\"dataframe\">\n",
       "  <thead>\n",
       "    <tr style=\"text-align: right;\">\n",
       "      <th></th>\n",
       "      <th>Unnamed: 0</th>\n",
       "      <th>key</th>\n",
       "      <th>fare_amount</th>\n",
       "      <th>pickup_datetime</th>\n",
       "      <th>pickup_longitude</th>\n",
       "      <th>pickup_latitude</th>\n",
       "      <th>dropoff_longitude</th>\n",
       "      <th>dropoff_latitude</th>\n",
       "      <th>passenger_count</th>\n",
       "    </tr>\n",
       "  </thead>\n",
       "  <tbody>\n",
       "    <tr>\n",
       "      <th>0</th>\n",
       "      <td>24238194</td>\n",
       "      <td>2015-05-07 19:52:06.0000003</td>\n",
       "      <td>7.5</td>\n",
       "      <td>2015-05-07 19:52:06 UTC</td>\n",
       "      <td>-73.999817</td>\n",
       "      <td>40.738354</td>\n",
       "      <td>-73.999512</td>\n",
       "      <td>40.723217</td>\n",
       "      <td>1</td>\n",
       "    </tr>\n",
       "    <tr>\n",
       "      <th>1</th>\n",
       "      <td>27835199</td>\n",
       "      <td>2009-07-17 20:04:56.0000002</td>\n",
       "      <td>7.7</td>\n",
       "      <td>2009-07-17 20:04:56 UTC</td>\n",
       "      <td>-73.994355</td>\n",
       "      <td>40.728225</td>\n",
       "      <td>-73.994710</td>\n",
       "      <td>40.750325</td>\n",
       "      <td>1</td>\n",
       "    </tr>\n",
       "    <tr>\n",
       "      <th>2</th>\n",
       "      <td>44984355</td>\n",
       "      <td>2009-08-24 21:45:00.00000061</td>\n",
       "      <td>12.9</td>\n",
       "      <td>2009-08-24 21:45:00 UTC</td>\n",
       "      <td>-74.005043</td>\n",
       "      <td>40.740770</td>\n",
       "      <td>-73.962565</td>\n",
       "      <td>40.772647</td>\n",
       "      <td>1</td>\n",
       "    </tr>\n",
       "    <tr>\n",
       "      <th>3</th>\n",
       "      <td>25894730</td>\n",
       "      <td>2009-06-26 08:22:21.0000001</td>\n",
       "      <td>5.3</td>\n",
       "      <td>2009-06-26 08:22:21 UTC</td>\n",
       "      <td>-73.976124</td>\n",
       "      <td>40.790844</td>\n",
       "      <td>-73.965316</td>\n",
       "      <td>40.803349</td>\n",
       "      <td>3</td>\n",
       "    </tr>\n",
       "    <tr>\n",
       "      <th>4</th>\n",
       "      <td>17610152</td>\n",
       "      <td>2014-08-28 17:47:00.000000188</td>\n",
       "      <td>16.0</td>\n",
       "      <td>2014-08-28 17:47:00 UTC</td>\n",
       "      <td>-73.925023</td>\n",
       "      <td>40.744085</td>\n",
       "      <td>-73.973082</td>\n",
       "      <td>40.761247</td>\n",
       "      <td>5</td>\n",
       "    </tr>\n",
       "  </tbody>\n",
       "</table>\n",
       "</div>"
      ],
      "text/plain": [
       "   Unnamed: 0                            key  fare_amount  \\\n",
       "0    24238194    2015-05-07 19:52:06.0000003          7.5   \n",
       "1    27835199    2009-07-17 20:04:56.0000002          7.7   \n",
       "2    44984355   2009-08-24 21:45:00.00000061         12.9   \n",
       "3    25894730    2009-06-26 08:22:21.0000001          5.3   \n",
       "4    17610152  2014-08-28 17:47:00.000000188         16.0   \n",
       "\n",
       "           pickup_datetime  pickup_longitude  pickup_latitude  \\\n",
       "0  2015-05-07 19:52:06 UTC        -73.999817        40.738354   \n",
       "1  2009-07-17 20:04:56 UTC        -73.994355        40.728225   \n",
       "2  2009-08-24 21:45:00 UTC        -74.005043        40.740770   \n",
       "3  2009-06-26 08:22:21 UTC        -73.976124        40.790844   \n",
       "4  2014-08-28 17:47:00 UTC        -73.925023        40.744085   \n",
       "\n",
       "   dropoff_longitude  dropoff_latitude  passenger_count  \n",
       "0         -73.999512         40.723217                1  \n",
       "1         -73.994710         40.750325                1  \n",
       "2         -73.962565         40.772647                1  \n",
       "3         -73.965316         40.803349                3  \n",
       "4         -73.973082         40.761247                5  "
      ]
     },
     "execution_count": 37,
     "metadata": {},
     "output_type": "execute_result"
    }
   ],
   "source": [
    "#loading uber\n",
    "uber = load_data('datasets/uber.csv')\n",
    "\n",
    "uber.head()\n"
   ]
  },
  {
   "cell_type": "code",
   "execution_count": 8,
   "metadata": {},
   "outputs": [
    {
     "name": "stdout",
     "output_type": "stream",
     "text": [
      "<class 'pandas.core.frame.DataFrame'>\n",
      "RangeIndex: 200000 entries, 0 to 199999\n",
      "Data columns (total 9 columns):\n",
      " #   Column             Non-Null Count   Dtype  \n",
      "---  ------             --------------   -----  \n",
      " 0   Unnamed: 0         200000 non-null  int64  \n",
      " 1   key                200000 non-null  object \n",
      " 2   fare_amount        200000 non-null  float64\n",
      " 3   pickup_datetime    200000 non-null  object \n",
      " 4   pickup_longitude   200000 non-null  float64\n",
      " 5   pickup_latitude    200000 non-null  float64\n",
      " 6   dropoff_longitude  199999 non-null  float64\n",
      " 7   dropoff_latitude   199999 non-null  float64\n",
      " 8   passenger_count    200000 non-null  int64  \n",
      "dtypes: float64(5), int64(2), object(2)\n",
      "memory usage: 13.7+ MB\n"
     ]
    }
   ],
   "source": [
    "uber.info()"
   ]
  },
  {
   "cell_type": "code",
   "execution_count": 9,
   "metadata": {},
   "outputs": [
    {
     "data": {
      "image/png": "[encoded data removed]",
      "text/plain": [
       "<Figure size 1440x1080 with 9 Axes>"
      ]
     },
     "metadata": {
      "needs_background": "light"
     },
     "output_type": "display_data"
    }
   ],
   "source": [
    "uber.hist(bins=50, figsize=(20,15))\n",
    "plt.show()"
   ]
  },
  {
   "cell_type": "markdown",
   "metadata": {},
   "source": [
    "### Splitting into Test and Training Sets"
   ]
  },
  {
   "cell_type": "code",
   "execution_count": 10,
   "metadata": {},
   "outputs": [],
   "source": [
    "from sklearn.model_selection import train_test_split\n",
    "\n",
    "train_set, test_set = train_test_split(uber, test_size=0.2, random_state=42)"
   ]
  },
  {
   "cell_type": "code",
   "execution_count": 11,
   "metadata": {},
   "outputs": [
    {
     "name": "stdout",
     "output_type": "stream",
     "text": [
      "(160000, 9)\n",
      "(40000, 9)\n"
     ]
    }
   ],
   "source": [
    "print(train_set.shape)\n",
    "print(test_set.shape)"
   ]
  },
  {
   "cell_type": "code",
   "execution_count": 12,
   "metadata": {},
   "outputs": [
    {
     "data": {
      "text/html": [
       "<div>\n",
       "<style scoped>\n",
       "    .dataframe tbody tr th:only-of-type {\n",
       "        vertical-align: middle;\n",
       "    }\n",
       "\n",
       "    .dataframe tbody tr th {\n",
       "        vertical-align: top;\n",
       "    }\n",
       "\n",
       "    .dataframe thead th {\n",
       "        text-align: right;\n",
       "    }\n",
       "</style>\n",
       "<table border=\"1\" class=\"dataframe\">\n",
       "  <thead>\n",
       "    <tr style=\"text-align: right;\">\n",
       "      <th></th>\n",
       "      <th>Unnamed: 0</th>\n",
       "      <th>key</th>\n",
       "      <th>fare_amount</th>\n",
       "      <th>pickup_datetime</th>\n",
       "      <th>pickup_longitude</th>\n",
       "      <th>pickup_latitude</th>\n",
       "      <th>dropoff_longitude</th>\n",
       "      <th>dropoff_latitude</th>\n",
       "      <th>passenger_count</th>\n",
       "    </tr>\n",
       "  </thead>\n",
       "  <tbody>\n",
       "    <tr>\n",
       "      <th>119737</th>\n",
       "      <td>187972</td>\n",
       "      <td>2014-12-08 23:26:00.000000157</td>\n",
       "      <td>5.5</td>\n",
       "      <td>2014-12-08 23:26:00 UTC</td>\n",
       "      <td>-74.000458</td>\n",
       "      <td>40.723990</td>\n",
       "      <td>-73.989682</td>\n",
       "      <td>40.725797</td>\n",
       "      <td>1</td>\n",
       "    </tr>\n",
       "    <tr>\n",
       "      <th>72272</th>\n",
       "      <td>4242034</td>\n",
       "      <td>2012-09-02 21:54:00.00000059</td>\n",
       "      <td>45.0</td>\n",
       "      <td>2012-09-02 21:54:00 UTC</td>\n",
       "      <td>0.000000</td>\n",
       "      <td>0.000000</td>\n",
       "      <td>0.000000</td>\n",
       "      <td>0.000000</td>\n",
       "      <td>5</td>\n",
       "    </tr>\n",
       "    <tr>\n",
       "      <th>158154</th>\n",
       "      <td>42897898</td>\n",
       "      <td>2010-06-24 18:11:00.00000028</td>\n",
       "      <td>5.3</td>\n",
       "      <td>2010-06-24 18:11:00 UTC</td>\n",
       "      <td>-73.955315</td>\n",
       "      <td>40.779068</td>\n",
       "      <td>-73.970558</td>\n",
       "      <td>40.764650</td>\n",
       "      <td>5</td>\n",
       "    </tr>\n",
       "    <tr>\n",
       "      <th>65426</th>\n",
       "      <td>16700122</td>\n",
       "      <td>2012-11-14 20:58:04.0000006</td>\n",
       "      <td>32.3</td>\n",
       "      <td>2012-11-14 20:58:04 UTC</td>\n",
       "      <td>-73.870920</td>\n",
       "      <td>40.773705</td>\n",
       "      <td>-73.964346</td>\n",
       "      <td>40.797100</td>\n",
       "      <td>3</td>\n",
       "    </tr>\n",
       "    <tr>\n",
       "      <th>30074</th>\n",
       "      <td>13592810</td>\n",
       "      <td>2011-09-19 08:02:00.00000052</td>\n",
       "      <td>4.1</td>\n",
       "      <td>2011-09-19 08:02:00 UTC</td>\n",
       "      <td>-73.992195</td>\n",
       "      <td>40.748958</td>\n",
       "      <td>-73.987078</td>\n",
       "      <td>40.743065</td>\n",
       "      <td>1</td>\n",
       "    </tr>\n",
       "  </tbody>\n",
       "</table>\n",
       "</div>"
      ],
      "text/plain": [
       "        Unnamed: 0                            key  fare_amount  \\\n",
       "119737      187972  2014-12-08 23:26:00.000000157          5.5   \n",
       "72272      4242034   2012-09-02 21:54:00.00000059         45.0   \n",
       "158154    42897898   2010-06-24 18:11:00.00000028          5.3   \n",
       "65426     16700122    2012-11-14 20:58:04.0000006         32.3   \n",
       "30074     13592810   2011-09-19 08:02:00.00000052          4.1   \n",
       "\n",
       "                pickup_datetime  pickup_longitude  pickup_latitude  \\\n",
       "119737  2014-12-08 23:26:00 UTC        -74.000458        40.723990   \n",
       "72272   2012-09-02 21:54:00 UTC          0.000000         0.000000   \n",
       "158154  2010-06-24 18:11:00 UTC        -73.955315        40.779068   \n",
       "65426   2012-11-14 20:58:04 UTC        -73.870920        40.773705   \n",
       "30074   2011-09-19 08:02:00 UTC        -73.992195        40.748958   \n",
       "\n",
       "        dropoff_longitude  dropoff_latitude  passenger_count  \n",
       "119737         -73.989682         40.725797                1  \n",
       "72272            0.000000          0.000000                5  \n",
       "158154         -73.970558         40.764650                5  \n",
       "65426          -73.964346         40.797100                3  \n",
       "30074          -73.987078         40.743065                1  "
      ]
     },
     "execution_count": 12,
     "metadata": {},
     "output_type": "execute_result"
    }
   ],
   "source": [
    "test_set.head()"
   ]
  },
  {
   "cell_type": "code",
   "execution_count": 13,
   "metadata": {},
   "outputs": [],
   "source": [
    "uber = train_set.copy()"
   ]
  },
  {
   "cell_type": "code",
   "execution_count": 14,
   "metadata": {},
   "outputs": [
    {
     "data": {
      "text/plain": [
       "<AxesSubplot:xlabel='pickup_latitude', ylabel='pickup_longitude'>"
      ]
     },
     "execution_count": 14,
     "metadata": {},
     "output_type": "execute_result"
    },
    {
     "data": {
      "image/png": "[encoded data removed]",
      "text/plain": [
       "<Figure size 432x288 with 1 Axes>"
      ]
     },
     "metadata": {
      "needs_background": "light"
     },
     "output_type": "display_data"
    }
   ],
   "source": [
    "uber.plot(kind='scatter', x='pickup_latitude', y='pickup_longitude')"
   ]
  },
  {
   "cell_type": "code",
   "execution_count": 15,
   "metadata": {},
   "outputs": [
    {
     "data": {
      "text/plain": [
       "<AxesSubplot:xlabel='dropoff_latitude', ylabel='dropoff_longitude'>"
      ]
     },
     "execution_count": 15,
     "metadata": {},
     "output_type": "execute_result"
    },
    {
     "data": {
      "image/png": "[encoded data removed]",
      "text/plain": [
       "<Figure size 432x288 with 1 Axes>"
      ]
     },
     "metadata": {
      "needs_background": "light"
     },
     "output_type": "display_data"
    }
   ],
   "source": [
    "uber.plot(kind='scatter', x='dropoff_latitude', y='dropoff_longitude')"
   ]
  },
  {
   "cell_type": "code",
   "execution_count": 16,
   "metadata": {},
   "outputs": [
    {
     "data": {
      "text/html": [
       "<div>\n",
       "<style scoped>\n",
       "    .dataframe tbody tr th:only-of-type {\n",
       "        vertical-align: middle;\n",
       "    }\n",
       "\n",
       "    .dataframe tbody tr th {\n",
       "        vertical-align: top;\n",
       "    }\n",
       "\n",
       "    .dataframe thead th {\n",
       "        text-align: right;\n",
       "    }\n",
       "</style>\n",
       "<table border=\"1\" class=\"dataframe\">\n",
       "  <thead>\n",
       "    <tr style=\"text-align: right;\">\n",
       "      <th></th>\n",
       "      <th>Unnamed: 0</th>\n",
       "      <th>fare_amount</th>\n",
       "      <th>pickup_longitude</th>\n",
       "      <th>pickup_latitude</th>\n",
       "      <th>dropoff_longitude</th>\n",
       "      <th>dropoff_latitude</th>\n",
       "      <th>passenger_count</th>\n",
       "    </tr>\n",
       "  </thead>\n",
       "  <tbody>\n",
       "    <tr>\n",
       "      <th>Unnamed: 0</th>\n",
       "      <td>1.000000</td>\n",
       "      <td>0.000563</td>\n",
       "      <td>0.001507</td>\n",
       "      <td>-0.001590</td>\n",
       "      <td>0.001042</td>\n",
       "      <td>-0.001185</td>\n",
       "      <td>0.002683</td>\n",
       "    </tr>\n",
       "    <tr>\n",
       "      <th>fare_amount</th>\n",
       "      <td>0.000563</td>\n",
       "      <td>1.000000</td>\n",
       "      <td>0.008559</td>\n",
       "      <td>-0.006856</td>\n",
       "      <td>0.006810</td>\n",
       "      <td>-0.009108</td>\n",
       "      <td>0.009384</td>\n",
       "    </tr>\n",
       "    <tr>\n",
       "      <th>pickup_longitude</th>\n",
       "      <td>0.001507</td>\n",
       "      <td>0.008559</td>\n",
       "      <td>1.000000</td>\n",
       "      <td>-0.800103</td>\n",
       "      <td>0.830801</td>\n",
       "      <td>-0.849639</td>\n",
       "      <td>-0.001232</td>\n",
       "    </tr>\n",
       "    <tr>\n",
       "      <th>pickup_latitude</th>\n",
       "      <td>-0.001590</td>\n",
       "      <td>-0.006856</td>\n",
       "      <td>-0.800103</td>\n",
       "      <td>1.000000</td>\n",
       "      <td>-0.758015</td>\n",
       "      <td>0.671587</td>\n",
       "      <td>-0.001532</td>\n",
       "    </tr>\n",
       "    <tr>\n",
       "      <th>dropoff_longitude</th>\n",
       "      <td>0.001042</td>\n",
       "      <td>0.006810</td>\n",
       "      <td>0.830801</td>\n",
       "      <td>-0.758015</td>\n",
       "      <td>1.000000</td>\n",
       "      <td>-0.927048</td>\n",
       "      <td>-0.000346</td>\n",
       "    </tr>\n",
       "    <tr>\n",
       "      <th>dropoff_latitude</th>\n",
       "      <td>-0.001185</td>\n",
       "      <td>-0.009108</td>\n",
       "      <td>-0.849639</td>\n",
       "      <td>0.671587</td>\n",
       "      <td>-0.927048</td>\n",
       "      <td>1.000000</td>\n",
       "      <td>-0.000776</td>\n",
       "    </tr>\n",
       "    <tr>\n",
       "      <th>passenger_count</th>\n",
       "      <td>0.002683</td>\n",
       "      <td>0.009384</td>\n",
       "      <td>-0.001232</td>\n",
       "      <td>-0.001532</td>\n",
       "      <td>-0.000346</td>\n",
       "      <td>-0.000776</td>\n",
       "      <td>1.000000</td>\n",
       "    </tr>\n",
       "  </tbody>\n",
       "</table>\n",
       "</div>"
      ],
      "text/plain": [
       "                   Unnamed: 0  fare_amount  pickup_longitude  pickup_latitude  \\\n",
       "Unnamed: 0           1.000000     0.000563          0.001507        -0.001590   \n",
       "fare_amount          0.000563     1.000000          0.008559        -0.006856   \n",
       "pickup_longitude     0.001507     0.008559          1.000000        -0.800103   \n",
       "pickup_latitude     -0.001590    -0.006856         -0.800103         1.000000   \n",
       "dropoff_longitude    0.001042     0.006810          0.830801        -0.758015   \n",
       "dropoff_latitude    -0.001185    -0.009108         -0.849639         0.671587   \n",
       "passenger_count      0.002683     0.009384         -0.001232        -0.001532   \n",
       "\n",
       "                   dropoff_longitude  dropoff_latitude  passenger_count  \n",
       "Unnamed: 0                  0.001042         -0.001185         0.002683  \n",
       "fare_amount                 0.006810         -0.009108         0.009384  \n",
       "pickup_longitude            0.830801         -0.849639        -0.001232  \n",
       "pickup_latitude            -0.758015          0.671587        -0.001532  \n",
       "dropoff_longitude           1.000000         -0.927048        -0.000346  \n",
       "dropoff_latitude           -0.927048          1.000000        -0.000776  \n",
       "passenger_count            -0.000346         -0.000776         1.000000  "
      ]
     },
     "execution_count": 16,
     "metadata": {},
     "output_type": "execute_result"
    }
   ],
   "source": [
    "uber.corr()"
   ]
  },
  {
   "cell_type": "code",
   "execution_count": 17,
   "metadata": {},
   "outputs": [],
   "source": [
    "uber = train_set\n",
    "uber_labels = train_set['fare_amount'].copy()"
   ]
  },
  {
   "cell_type": "markdown",
   "metadata": {},
   "source": [
    "### Cleaning Data"
   ]
  },
  {
   "cell_type": "code",
   "execution_count": 18,
   "metadata": {},
   "outputs": [
    {
     "data": {
      "text/plain": [
       "Unnamed: 0           0\n",
       "key                  0\n",
       "fare_amount          0\n",
       "pickup_datetime      0\n",
       "pickup_longitude     0\n",
       "pickup_latitude      0\n",
       "dropoff_longitude    1\n",
       "dropoff_latitude     1\n",
       "passenger_count      0\n",
       "dtype: int64"
      ]
     },
     "execution_count": 18,
     "metadata": {},
     "output_type": "execute_result"
    }
   ],
   "source": [
    "uber.isnull().sum()"
   ]
  },
  {
   "cell_type": "code",
   "execution_count": 19,
   "metadata": {},
   "outputs": [],
   "source": [
    "def cleanData(X):\n",
    "    X = X.dropna()\n",
    "    X.drop(X[X['pickup_latitude'] > 90].index, inplace=True)\n",
    "    X.drop(X[X['pickup_latitude'] < -90].index, inplace=True)\n",
    "    X.drop(X[X['pickup_longitude'] > 180].index, inplace=True)\n",
    "    X.drop(X[X['pickup_longitude'] < -180].index, inplace=True)\n",
    "    X.drop(X[X['dropoff_latitude'] > 90].index, inplace=True)\n",
    "    X.drop(X[X['dropoff_latitude'] < -90].index, inplace=True)\n",
    "    X.drop(X[X['dropoff_longitude'] > 180].index, inplace=True)\n",
    "    X.drop(X[X['dropoff_longitude'] < -180].index, inplace=True)\n",
    "    return X"
   ]
  },
  {
   "cell_type": "code",
   "execution_count": 20,
   "metadata": {},
   "outputs": [],
   "source": [
    "uber = uber.dropna()"
   ]
  },
  {
   "cell_type": "code",
   "execution_count": 21,
   "metadata": {},
   "outputs": [
    {
     "name": "stderr",
     "output_type": "stream",
     "text": [
      "/Users/eliasmann/opt/anaconda3/envs/AppliedMLenv/lib/python3.7/site-packages/pandas/core/frame.py:4908: SettingWithCopyWarning: \n",
      "A value is trying to be set on a copy of a slice from a DataFrame\n",
      "\n",
      "See the caveats in the documentation: https://pandas.pydata.org/pandas-docs/stable/user_guide/indexing.html#returning-a-view-versus-a-copy\n",
      "  errors=errors,\n"
     ]
    }
   ],
   "source": [
    "uber.drop(uber[uber['pickup_latitude'] > 90].index, inplace=True)\n",
    "uber.drop(uber[uber['pickup_latitude'] < -90].index, inplace=True)\n",
    "uber.drop(uber[uber['pickup_longitude'] > 180].index, inplace=True)\n",
    "uber.drop(uber[uber['pickup_longitude'] < -180].index, inplace=True)\n",
    "uber.drop(uber[uber['dropoff_latitude'] > 90].index, inplace=True)\n",
    "uber.drop(uber[uber['dropoff_latitude'] < -90].index, inplace=True)\n",
    "uber.drop(uber[uber['dropoff_longitude'] > 180].index, inplace=True)\n",
    "uber.drop(uber[uber['dropoff_longitude'] < -180].index, inplace=True)"
   ]
  },
  {
   "cell_type": "code",
   "execution_count": 22,
   "metadata": {},
   "outputs": [],
   "source": [
    "uber_labels = uber['fare_amount'].copy()"
   ]
  },
  {
   "cell_type": "code",
   "execution_count": 23,
   "metadata": {},
   "outputs": [],
   "source": [
    "uber.drop('fare_amount', axis=1, inplace=True)"
   ]
  },
  {
   "cell_type": "code",
   "execution_count": 24,
   "metadata": {},
   "outputs": [
    {
     "data": {
      "text/plain": [
       "(159990, 8)"
      ]
     },
     "execution_count": 24,
     "metadata": {},
     "output_type": "execute_result"
    }
   ],
   "source": [
    "uber.shape"
   ]
  },
  {
   "cell_type": "markdown",
   "metadata": {},
   "source": [
    "### One Hot Encoding"
   ]
  },
  {
   "cell_type": "code",
   "execution_count": 25,
   "metadata": {},
   "outputs": [
    {
     "name": "stderr",
     "output_type": "stream",
     "text": [
      "/Users/eliasmann/opt/anaconda3/envs/AppliedMLenv/lib/python3.7/site-packages/ipykernel_launcher.py:1: SettingWithCopyWarning: \n",
      "A value is trying to be set on a copy of a slice from a DataFrame.\n",
      "Try using .loc[row_indexer,col_indexer] = value instead\n",
      "\n",
      "See the caveats in the documentation: https://pandas.pydata.org/pandas-docs/stable/user_guide/indexing.html#returning-a-view-versus-a-copy\n",
      "  \"\"\"Entry point for launching an IPython kernel.\n",
      "/Users/eliasmann/opt/anaconda3/envs/AppliedMLenv/lib/python3.7/site-packages/ipykernel_launcher.py:2: SettingWithCopyWarning: \n",
      "A value is trying to be set on a copy of a slice from a DataFrame.\n",
      "Try using .loc[row_indexer,col_indexer] = value instead\n",
      "\n",
      "See the caveats in the documentation: https://pandas.pydata.org/pandas-docs/stable/user_guide/indexing.html#returning-a-view-versus-a-copy\n",
      "  \n",
      "/Users/eliasmann/opt/anaconda3/envs/AppliedMLenv/lib/python3.7/site-packages/ipykernel_launcher.py:3: SettingWithCopyWarning: \n",
      "A value is trying to be set on a copy of a slice from a DataFrame.\n",
      "Try using .loc[row_indexer,col_indexer] = value instead\n",
      "\n",
      "See the caveats in the documentation: https://pandas.pydata.org/pandas-docs/stable/user_guide/indexing.html#returning-a-view-versus-a-copy\n",
      "  This is separate from the ipykernel package so we can avoid doing imports until\n"
     ]
    }
   ],
   "source": [
    "uber['date'] = pd.to_datetime(uber['pickup_datetime'])\n",
    "uber['day'] = uber['date'].dt.dayofweek\n",
    "uber['hour'] = uber['date'].dt.hour"
   ]
  },
  {
   "cell_type": "code",
   "execution_count": 26,
   "metadata": {},
   "outputs": [
    {
     "name": "stderr",
     "output_type": "stream",
     "text": [
      "/Users/eliasmann/opt/anaconda3/envs/AppliedMLenv/lib/python3.7/site-packages/ipykernel_launcher.py:1: SettingWithCopyWarning: \n",
      "A value is trying to be set on a copy of a slice from a DataFrame.\n",
      "Try using .loc[row_indexer,col_indexer] = value instead\n",
      "\n",
      "See the caveats in the documentation: https://pandas.pydata.org/pandas-docs/stable/user_guide/indexing.html#returning-a-view-versus-a-copy\n",
      "  \"\"\"Entry point for launching an IPython kernel.\n"
     ]
    }
   ],
   "source": [
    "uber['weekend'] = uber['day'].apply(lambda x: 'yes' if x in [5,6] else 'no')"
   ]
  },
  {
   "cell_type": "code",
   "execution_count": 27,
   "metadata": {},
   "outputs": [
    {
     "data": {
      "text/html": [
       "<div>\n",
       "<style scoped>\n",
       "    .dataframe tbody tr th:only-of-type {\n",
       "        vertical-align: middle;\n",
       "    }\n",
       "\n",
       "    .dataframe tbody tr th {\n",
       "        vertical-align: top;\n",
       "    }\n",
       "\n",
       "    .dataframe thead th {\n",
       "        text-align: right;\n",
       "    }\n",
       "</style>\n",
       "<table border=\"1\" class=\"dataframe\">\n",
       "  <thead>\n",
       "    <tr style=\"text-align: right;\">\n",
       "      <th></th>\n",
       "      <th>Unnamed: 0</th>\n",
       "      <th>key</th>\n",
       "      <th>pickup_datetime</th>\n",
       "      <th>pickup_longitude</th>\n",
       "      <th>pickup_latitude</th>\n",
       "      <th>dropoff_longitude</th>\n",
       "      <th>dropoff_latitude</th>\n",
       "      <th>passenger_count</th>\n",
       "      <th>date</th>\n",
       "      <th>day</th>\n",
       "      <th>hour</th>\n",
       "      <th>weekend</th>\n",
       "    </tr>\n",
       "  </thead>\n",
       "  <tbody>\n",
       "    <tr>\n",
       "      <th>153248</th>\n",
       "      <td>17778666</td>\n",
       "      <td>2009-11-19 21:59:00.00000086</td>\n",
       "      <td>2009-11-19 21:59:00 UTC</td>\n",
       "      <td>-73.978585</td>\n",
       "      <td>40.748388</td>\n",
       "      <td>-73.976913</td>\n",
       "      <td>40.784958</td>\n",
       "      <td>1</td>\n",
       "      <td>2009-11-19 21:59:00+00:00</td>\n",
       "      <td>3</td>\n",
       "      <td>21</td>\n",
       "      <td>no</td>\n",
       "    </tr>\n",
       "    <tr>\n",
       "      <th>67802</th>\n",
       "      <td>54334677</td>\n",
       "      <td>2013-02-27 22:29:15.0000004</td>\n",
       "      <td>2013-02-27 22:29:15 UTC</td>\n",
       "      <td>-73.978198</td>\n",
       "      <td>40.752533</td>\n",
       "      <td>-73.909752</td>\n",
       "      <td>40.874372</td>\n",
       "      <td>1</td>\n",
       "      <td>2013-02-27 22:29:15+00:00</td>\n",
       "      <td>2</td>\n",
       "      <td>22</td>\n",
       "      <td>no</td>\n",
       "    </tr>\n",
       "    <tr>\n",
       "      <th>148889</th>\n",
       "      <td>11815656</td>\n",
       "      <td>2014-06-01 08:48:00.00000094</td>\n",
       "      <td>2014-06-01 08:48:00 UTC</td>\n",
       "      <td>-73.994242</td>\n",
       "      <td>40.751227</td>\n",
       "      <td>-73.999432</td>\n",
       "      <td>40.762037</td>\n",
       "      <td>1</td>\n",
       "      <td>2014-06-01 08:48:00+00:00</td>\n",
       "      <td>6</td>\n",
       "      <td>8</td>\n",
       "      <td>yes</td>\n",
       "    </tr>\n",
       "    <tr>\n",
       "      <th>103093</th>\n",
       "      <td>28734805</td>\n",
       "      <td>2010-07-10 23:10:00.00000019</td>\n",
       "      <td>2010-07-10 23:10:00 UTC</td>\n",
       "      <td>-73.951705</td>\n",
       "      <td>40.778330</td>\n",
       "      <td>-73.956050</td>\n",
       "      <td>40.777560</td>\n",
       "      <td>2</td>\n",
       "      <td>2010-07-10 23:10:00+00:00</td>\n",
       "      <td>5</td>\n",
       "      <td>23</td>\n",
       "      <td>yes</td>\n",
       "    </tr>\n",
       "    <tr>\n",
       "      <th>104681</th>\n",
       "      <td>54482655</td>\n",
       "      <td>2013-09-29 13:36:00.000000167</td>\n",
       "      <td>2013-09-29 13:36:00 UTC</td>\n",
       "      <td>-73.989120</td>\n",
       "      <td>40.736932</td>\n",
       "      <td>-73.782890</td>\n",
       "      <td>40.643947</td>\n",
       "      <td>1</td>\n",
       "      <td>2013-09-29 13:36:00+00:00</td>\n",
       "      <td>6</td>\n",
       "      <td>13</td>\n",
       "      <td>yes</td>\n",
       "    </tr>\n",
       "  </tbody>\n",
       "</table>\n",
       "</div>"
      ],
      "text/plain": [
       "        Unnamed: 0                            key          pickup_datetime  \\\n",
       "153248    17778666   2009-11-19 21:59:00.00000086  2009-11-19 21:59:00 UTC   \n",
       "67802     54334677    2013-02-27 22:29:15.0000004  2013-02-27 22:29:15 UTC   \n",
       "148889    11815656   2014-06-01 08:48:00.00000094  2014-06-01 08:48:00 UTC   \n",
       "103093    28734805   2010-07-10 23:10:00.00000019  2010-07-10 23:10:00 UTC   \n",
       "104681    54482655  2013-09-29 13:36:00.000000167  2013-09-29 13:36:00 UTC   \n",
       "\n",
       "        pickup_longitude  pickup_latitude  dropoff_longitude  \\\n",
       "153248        -73.978585        40.748388         -73.976913   \n",
       "67802         -73.978198        40.752533         -73.909752   \n",
       "148889        -73.994242        40.751227         -73.999432   \n",
       "103093        -73.951705        40.778330         -73.956050   \n",
       "104681        -73.989120        40.736932         -73.782890   \n",
       "\n",
       "        dropoff_latitude  passenger_count                      date  day  \\\n",
       "153248         40.784958                1 2009-11-19 21:59:00+00:00    3   \n",
       "67802          40.874372                1 2013-02-27 22:29:15+00:00    2   \n",
       "148889         40.762037                1 2014-06-01 08:48:00+00:00    6   \n",
       "103093         40.777560                2 2010-07-10 23:10:00+00:00    5   \n",
       "104681         40.643947                1 2013-09-29 13:36:00+00:00    6   \n",
       "\n",
       "        hour weekend  \n",
       "153248    21      no  \n",
       "67802     22      no  \n",
       "148889     8     yes  \n",
       "103093    23     yes  \n",
       "104681    13     yes  "
      ]
     },
     "execution_count": 27,
     "metadata": {},
     "output_type": "execute_result"
    }
   ],
   "source": [
    "uber.head()"
   ]
  },
  {
   "cell_type": "code",
   "execution_count": 28,
   "metadata": {},
   "outputs": [
    {
     "data": {
      "text/plain": [
       "array([[1., 0.],\n",
       "       [1., 0.],\n",
       "       [0., 1.],\n",
       "       ...,\n",
       "       [0., 1.],\n",
       "       [1., 0.],\n",
       "       [0., 1.]])"
      ]
     },
     "execution_count": 28,
     "metadata": {},
     "output_type": "execute_result"
    }
   ],
   "source": [
    "from sklearn.preprocessing import OneHotEncoder\n",
    "weekend_cat = uber[['weekend']]\n",
    "cat_encoder = OneHotEncoder()\n",
    "weekend_encoded = cat_encoder.fit_transform(weekend_cat).toarray()\n",
    "weekend_encoded"
   ]
  },
  {
   "cell_type": "markdown",
   "metadata": {},
   "source": [
    "### Custom Transformer"
   ]
  },
  {
   "cell_type": "code",
   "execution_count": 29,
   "metadata": {},
   "outputs": [
    {
     "data": {
      "text/html": [
       "<div>\n",
       "<style scoped>\n",
       "    .dataframe tbody tr th:only-of-type {\n",
       "        vertical-align: middle;\n",
       "    }\n",
       "\n",
       "    .dataframe tbody tr th {\n",
       "        vertical-align: top;\n",
       "    }\n",
       "\n",
       "    .dataframe thead th {\n",
       "        text-align: right;\n",
       "    }\n",
       "</style>\n",
       "<table border=\"1\" class=\"dataframe\">\n",
       "  <thead>\n",
       "    <tr style=\"text-align: right;\">\n",
       "      <th></th>\n",
       "      <th>Unnamed: 0</th>\n",
       "      <th>key</th>\n",
       "      <th>pickup_datetime</th>\n",
       "      <th>pickup_longitude</th>\n",
       "      <th>pickup_latitude</th>\n",
       "      <th>dropoff_longitude</th>\n",
       "      <th>dropoff_latitude</th>\n",
       "      <th>passenger_count</th>\n",
       "      <th>date</th>\n",
       "      <th>day</th>\n",
       "      <th>hour</th>\n",
       "      <th>weekend</th>\n",
       "    </tr>\n",
       "  </thead>\n",
       "  <tbody>\n",
       "    <tr>\n",
       "      <th>153248</th>\n",
       "      <td>17778666</td>\n",
       "      <td>2009-11-19 21:59:00.00000086</td>\n",
       "      <td>2009-11-19 21:59:00 UTC</td>\n",
       "      <td>-73.978585</td>\n",
       "      <td>40.748388</td>\n",
       "      <td>-73.976913</td>\n",
       "      <td>40.784958</td>\n",
       "      <td>1</td>\n",
       "      <td>2009-11-19 21:59:00+00:00</td>\n",
       "      <td>3</td>\n",
       "      <td>21</td>\n",
       "      <td>no</td>\n",
       "    </tr>\n",
       "    <tr>\n",
       "      <th>67802</th>\n",
       "      <td>54334677</td>\n",
       "      <td>2013-02-27 22:29:15.0000004</td>\n",
       "      <td>2013-02-27 22:29:15 UTC</td>\n",
       "      <td>-73.978198</td>\n",
       "      <td>40.752533</td>\n",
       "      <td>-73.909752</td>\n",
       "      <td>40.874372</td>\n",
       "      <td>1</td>\n",
       "      <td>2013-02-27 22:29:15+00:00</td>\n",
       "      <td>2</td>\n",
       "      <td>22</td>\n",
       "      <td>no</td>\n",
       "    </tr>\n",
       "    <tr>\n",
       "      <th>148889</th>\n",
       "      <td>11815656</td>\n",
       "      <td>2014-06-01 08:48:00.00000094</td>\n",
       "      <td>2014-06-01 08:48:00 UTC</td>\n",
       "      <td>-73.994242</td>\n",
       "      <td>40.751227</td>\n",
       "      <td>-73.999432</td>\n",
       "      <td>40.762037</td>\n",
       "      <td>1</td>\n",
       "      <td>2014-06-01 08:48:00+00:00</td>\n",
       "      <td>6</td>\n",
       "      <td>8</td>\n",
       "      <td>yes</td>\n",
       "    </tr>\n",
       "    <tr>\n",
       "      <th>103093</th>\n",
       "      <td>28734805</td>\n",
       "      <td>2010-07-10 23:10:00.00000019</td>\n",
       "      <td>2010-07-10 23:10:00 UTC</td>\n",
       "      <td>-73.951705</td>\n",
       "      <td>40.778330</td>\n",
       "      <td>-73.956050</td>\n",
       "      <td>40.777560</td>\n",
       "      <td>2</td>\n",
       "      <td>2010-07-10 23:10:00+00:00</td>\n",
       "      <td>5</td>\n",
       "      <td>23</td>\n",
       "      <td>yes</td>\n",
       "    </tr>\n",
       "    <tr>\n",
       "      <th>104681</th>\n",
       "      <td>54482655</td>\n",
       "      <td>2013-09-29 13:36:00.000000167</td>\n",
       "      <td>2013-09-29 13:36:00 UTC</td>\n",
       "      <td>-73.989120</td>\n",
       "      <td>40.736932</td>\n",
       "      <td>-73.782890</td>\n",
       "      <td>40.643947</td>\n",
       "      <td>1</td>\n",
       "      <td>2013-09-29 13:36:00+00:00</td>\n",
       "      <td>6</td>\n",
       "      <td>13</td>\n",
       "      <td>yes</td>\n",
       "    </tr>\n",
       "  </tbody>\n",
       "</table>\n",
       "</div>"
      ],
      "text/plain": [
       "        Unnamed: 0                            key          pickup_datetime  \\\n",
       "153248    17778666   2009-11-19 21:59:00.00000086  2009-11-19 21:59:00 UTC   \n",
       "67802     54334677    2013-02-27 22:29:15.0000004  2013-02-27 22:29:15 UTC   \n",
       "148889    11815656   2014-06-01 08:48:00.00000094  2014-06-01 08:48:00 UTC   \n",
       "103093    28734805   2010-07-10 23:10:00.00000019  2010-07-10 23:10:00 UTC   \n",
       "104681    54482655  2013-09-29 13:36:00.000000167  2013-09-29 13:36:00 UTC   \n",
       "\n",
       "        pickup_longitude  pickup_latitude  dropoff_longitude  \\\n",
       "153248        -73.978585        40.748388         -73.976913   \n",
       "67802         -73.978198        40.752533         -73.909752   \n",
       "148889        -73.994242        40.751227         -73.999432   \n",
       "103093        -73.951705        40.778330         -73.956050   \n",
       "104681        -73.989120        40.736932         -73.782890   \n",
       "\n",
       "        dropoff_latitude  passenger_count                      date  day  \\\n",
       "153248         40.784958                1 2009-11-19 21:59:00+00:00    3   \n",
       "67802          40.874372                1 2013-02-27 22:29:15+00:00    2   \n",
       "148889         40.762037                1 2014-06-01 08:48:00+00:00    6   \n",
       "103093         40.777560                2 2010-07-10 23:10:00+00:00    5   \n",
       "104681         40.643947                1 2013-09-29 13:36:00+00:00    6   \n",
       "\n",
       "        hour weekend  \n",
       "153248    21      no  \n",
       "67802     22      no  \n",
       "148889     8     yes  \n",
       "103093    23     yes  \n",
       "104681    13     yes  "
      ]
     },
     "execution_count": 29,
     "metadata": {},
     "output_type": "execute_result"
    }
   ],
   "source": [
    "uber.head()"
   ]
  },
  {
   "cell_type": "code",
   "execution_count": 30,
   "metadata": {},
   "outputs": [],
   "source": [
    "from sklearn.base import BaseEstimator, TransformerMixin\n",
    "\n",
    "class FeatureSelector( BaseEstimator, TransformerMixin ):\n",
    "    #Class Constructor \n",
    "    def __init__( self, feature_names ):\n",
    "        self._feature_names = feature_names \n",
    "    \n",
    "    #Return self nothing else to do here    \n",
    "    def fit( self, X, y = None ):\n",
    "        return self \n",
    "    \n",
    "    #Method that describes what we need this transformer to do\n",
    "    def transform( self, X, y = None ):\n",
    "        return X[ self._feature_names ] "
   ]
  },
  {
   "cell_type": "code",
   "execution_count": 31,
   "metadata": {},
   "outputs": [
    {
     "ename": "ModuleNotFoundError",
     "evalue": "No module named 'geopy'",
     "output_type": "error",
     "traceback": [
      "\u001b[0;31m---------------------------------------------------------------------------\u001b[0m",
      "\u001b[0;31mModuleNotFoundError\u001b[0m                       Traceback (most recent call last)",
      "\u001b[0;32m/var/folders/ff/x688rcys16d34fpwt6zr8qcc0000gn/T/ipykernel_38354/737167292.py\u001b[0m in \u001b[0;36m<module>\u001b[0;34m\u001b[0m\n\u001b[1;32m      1\u001b[0m \u001b[0;32mfrom\u001b[0m \u001b[0msklearn\u001b[0m\u001b[0;34m.\u001b[0m\u001b[0mbase\u001b[0m \u001b[0;32mimport\u001b[0m \u001b[0mBaseEstimator\u001b[0m\u001b[0;34m,\u001b[0m \u001b[0mTransformerMixin\u001b[0m\u001b[0;34m\u001b[0m\u001b[0;34m\u001b[0m\u001b[0m\n\u001b[0;32m----> 2\u001b[0;31m \u001b[0;32mimport\u001b[0m \u001b[0mgeopy\u001b[0m\u001b[0;34m.\u001b[0m\u001b[0mdistance\u001b[0m \u001b[0;32mas\u001b[0m \u001b[0mgd\u001b[0m\u001b[0;34m\u001b[0m\u001b[0;34m\u001b[0m\u001b[0m\n\u001b[0m\u001b[1;32m      3\u001b[0m \u001b[0;34m\u001b[0m\u001b[0m\n\u001b[1;32m      4\u001b[0m \u001b[0;32mclass\u001b[0m \u001b[0mCustomTransformer\u001b[0m\u001b[0;34m(\u001b[0m\u001b[0mBaseEstimator\u001b[0m\u001b[0;34m,\u001b[0m \u001b[0mTransformerMixin\u001b[0m\u001b[0;34m)\u001b[0m\u001b[0;34m:\u001b[0m\u001b[0;34m\u001b[0m\u001b[0;34m\u001b[0m\u001b[0m\n\u001b[1;32m      5\u001b[0m     \u001b[0;32mdef\u001b[0m \u001b[0m__init__\u001b[0m\u001b[0;34m(\u001b[0m\u001b[0mself\u001b[0m\u001b[0;34m,\u001b[0m \u001b[0madd_weekends\u001b[0m\u001b[0;34m=\u001b[0m\u001b[0;32mTrue\u001b[0m\u001b[0;34m,\u001b[0m \u001b[0mcyclic_time\u001b[0m\u001b[0;34m=\u001b[0m\u001b[0;32mTrue\u001b[0m\u001b[0;34m)\u001b[0m\u001b[0;34m:\u001b[0m\u001b[0;34m\u001b[0m\u001b[0;34m\u001b[0m\u001b[0m\n",
      "\u001b[0;31mModuleNotFoundError\u001b[0m: No module named 'geopy'"
     ]
    }
   ],
   "source": [
    "from sklearn.base import BaseEstimator, TransformerMixin\n",
    "import geopy.distance as gd\n",
    "\n",
    "class CustomTransformer(BaseEstimator, TransformerMixin):\n",
    "    def __init__(self, add_weekends=True, cyclic_time=True):\n",
    "        self.add_weekends = add_weekends\n",
    "        self.cyclic_time = cyclic_time\n",
    "    def fit(self, X, y=None):\n",
    "        return self\n",
    "    def distance(self, lat1, lon1, lat2, lon2):\n",
    "        return gd.distance((lat1, lon1), (lat2, lon2)).mi\n",
    "    def transform(self, X, y=None):\n",
    "        # data cleaning\n",
    "        X = X.dropna()\n",
    "        X.drop(X[X['pickup_latitude'] > 90].index, inplace=True)\n",
    "        X.drop(X[X['pickup_latitude'] < -90].index, inplace=True)\n",
    "        X.drop(X[X['pickup_longitude'] > 180].index, inplace=True)\n",
    "        X.drop(X[X['pickup_longitude'] < -180].index, inplace=True)\n",
    "        X.drop(X[X['dropoff_latitude'] > 90].index, inplace=True)\n",
    "        X.drop(X[X['dropoff_latitude'] < -90].index, inplace=True)\n",
    "        X.drop(X[X['dropoff_longitude'] > 180].index, inplace=True)\n",
    "        X.drop(X[X['dropoff_longitude'] < -180].index, inplace=True)\n",
    "        # add hours and weekends\n",
    "        X['distance_mi'] = X.apply(lambda row: self.distance(row['pickup_latitude'], row['pickup_longitude'], row['dropoff_latitude'], row['dropoff_longitude']), axis=1)\n",
    "        X['date'] = pd.to_datetime(X['pickup_datetime'])\n",
    "        X['day'] = X['date'].dt.dayofweek\n",
    "        X['hour'] = X['date'].dt.hour\n",
    "        if(self.add_weekends):\n",
    "            X['weekend'] = X['day'].apply(lambda x: 1 if x in [5,6] else 0)\n",
    "        if(self.cyclic_time):\n",
    "            X['hour_sin'] = np.sin(2*np.pi*X['hour']/24)\n",
    "            X['hour_cos'] = np.cos(2*np.pi*X['hour']/24)\n",
    "        X.drop(['pickup_datetime', 'date', 'day', 'pickup_latitude', 'pickup_longitude', 'dropoff_latitude', 'dropoff_longitude', 'Unnamed: 0', 'key' ], axis=1, inplace=True)\n",
    "        print(X)\n",
    "        print(type(X.values))\n",
    "        return X.values"
   ]
  },
  {
   "cell_type": "code",
   "execution_count": null,
   "metadata": {},
   "outputs": [],
   "source": [
    "from sklearn.pipeline import Pipeline\n",
    "cat_attributes = ['weekend']\n",
    "cols = ['Unnamed: 0', 'key', 'pickup_datetime',\n",
    "       'pickup_longitude', 'pickup_latitude', 'dropoff_longitude',\n",
    "       'dropoff_latitude', 'passenger_count']\n",
    "transformer_pipeline = Pipeline(steps=[\n",
    "    ('columns selector', FeatureSelector(cols)),\n",
    "       ('custom transformer', CustomTransformer(add_weekends=True, cyclic_time=True))])"
   ]
  },
  {
   "cell_type": "code",
   "execution_count": null,
   "metadata": {},
   "outputs": [],
   "source": [
    "from sklearn.compose import ColumnTransformer\n",
    "data = list(uber)\n",
    "full_pipeline = ColumnTransformer([\n",
    "    ('uber', transformer_pipeline, data),\n",
    "    ('cat_encoder', OneHotEncoder(), cat_attributes)\n",
    "])"
   ]
  },
  {
   "cell_type": "code",
   "execution_count": null,
   "metadata": {},
   "outputs": [
    {
     "name": "stderr",
     "output_type": "stream",
     "text": [
      "/var/folders/6j/zq70vzjs0ggcjv4q8z1llhmm0000gn/T/ipykernel_60419/737167292.py:15: SettingWithCopyWarning: \n",
      "A value is trying to be set on a copy of a slice from a DataFrame\n",
      "\n",
      "See the caveats in the documentation: https://pandas.pydata.org/pandas-docs/stable/user_guide/indexing.html#returning-a-view-versus-a-copy\n",
      "  X.drop(X[X['pickup_latitude'] > 90].index, inplace=True)\n",
      "/var/folders/6j/zq70vzjs0ggcjv4q8z1llhmm0000gn/T/ipykernel_60419/737167292.py:16: SettingWithCopyWarning: \n",
      "A value is trying to be set on a copy of a slice from a DataFrame\n",
      "\n",
      "See the caveats in the documentation: https://pandas.pydata.org/pandas-docs/stable/user_guide/indexing.html#returning-a-view-versus-a-copy\n",
      "  X.drop(X[X['pickup_latitude'] < -90].index, inplace=True)\n",
      "/var/folders/6j/zq70vzjs0ggcjv4q8z1llhmm0000gn/T/ipykernel_60419/737167292.py:17: SettingWithCopyWarning: \n",
      "A value is trying to be set on a copy of a slice from a DataFrame\n",
      "\n",
      "See the caveats in the documentation: https://pandas.pydata.org/pandas-docs/stable/user_guide/indexing.html#returning-a-view-versus-a-copy\n",
      "  X.drop(X[X['pickup_longitude'] > 180].index, inplace=True)\n",
      "/var/folders/6j/zq70vzjs0ggcjv4q8z1llhmm0000gn/T/ipykernel_60419/737167292.py:18: SettingWithCopyWarning: \n",
      "A value is trying to be set on a copy of a slice from a DataFrame\n",
      "\n",
      "See the caveats in the documentation: https://pandas.pydata.org/pandas-docs/stable/user_guide/indexing.html#returning-a-view-versus-a-copy\n",
      "  X.drop(X[X['pickup_longitude'] < -180].index, inplace=True)\n",
      "/var/folders/6j/zq70vzjs0ggcjv4q8z1llhmm0000gn/T/ipykernel_60419/737167292.py:19: SettingWithCopyWarning: \n",
      "A value is trying to be set on a copy of a slice from a DataFrame\n",
      "\n",
      "See the caveats in the documentation: https://pandas.pydata.org/pandas-docs/stable/user_guide/indexing.html#returning-a-view-versus-a-copy\n",
      "  X.drop(X[X['dropoff_latitude'] > 90].index, inplace=True)\n",
      "/var/folders/6j/zq70vzjs0ggcjv4q8z1llhmm0000gn/T/ipykernel_60419/737167292.py:20: SettingWithCopyWarning: \n",
      "A value is trying to be set on a copy of a slice from a DataFrame\n",
      "\n",
      "See the caveats in the documentation: https://pandas.pydata.org/pandas-docs/stable/user_guide/indexing.html#returning-a-view-versus-a-copy\n",
      "  X.drop(X[X['dropoff_latitude'] < -90].index, inplace=True)\n",
      "/var/folders/6j/zq70vzjs0ggcjv4q8z1llhmm0000gn/T/ipykernel_60419/737167292.py:21: SettingWithCopyWarning: \n",
      "A value is trying to be set on a copy of a slice from a DataFrame\n",
      "\n",
      "See the caveats in the documentation: https://pandas.pydata.org/pandas-docs/stable/user_guide/indexing.html#returning-a-view-versus-a-copy\n",
      "  X.drop(X[X['dropoff_longitude'] > 180].index, inplace=True)\n",
      "/var/folders/6j/zq70vzjs0ggcjv4q8z1llhmm0000gn/T/ipykernel_60419/737167292.py:22: SettingWithCopyWarning: \n",
      "A value is trying to be set on a copy of a slice from a DataFrame\n",
      "\n",
      "See the caveats in the documentation: https://pandas.pydata.org/pandas-docs/stable/user_guide/indexing.html#returning-a-view-versus-a-copy\n",
      "  X.drop(X[X['dropoff_longitude'] < -180].index, inplace=True)\n",
      "/var/folders/6j/zq70vzjs0ggcjv4q8z1llhmm0000gn/T/ipykernel_60419/737167292.py:24: SettingWithCopyWarning: \n",
      "A value is trying to be set on a copy of a slice from a DataFrame.\n",
      "Try using .loc[row_indexer,col_indexer] = value instead\n",
      "\n",
      "See the caveats in the documentation: https://pandas.pydata.org/pandas-docs/stable/user_guide/indexing.html#returning-a-view-versus-a-copy\n",
      "  X['distance_mi'] = X.apply(lambda row: self.distance(row['pickup_latitude'], row['pickup_longitude'], row['dropoff_latitude'], row['dropoff_longitude']), axis=1)\n"
     ]
    },
    {
     "name": "stdout",
     "output_type": "stream",
     "text": [
      "        passenger_count  distance_mi  hour  weekend  hour_sin  hour_cos\n",
      "153248                1     2.524960    21        0 -0.707107  0.707107\n",
      "67802                 1     9.141077    22        0 -0.500000  0.866025\n",
      "148889                1     0.794076     8        1  0.866025 -0.500000\n",
      "103093                2     0.234025    23        1 -0.258819  0.965926\n",
      "104681                1    12.589486    13        1 -0.258819 -0.965926\n",
      "...                 ...          ...   ...      ...       ...       ...\n",
      "119879                1     0.647397    17        0 -0.965926 -0.258819\n",
      "103694                2     0.528773    19        1 -0.965926  0.258819\n",
      "131932                1     1.740485    13        1 -0.258819 -0.965926\n",
      "146867                5     0.617628    19        0 -0.965926  0.258819\n",
      "121958                2     1.874094     9        1  0.707107 -0.707107\n",
      "\n",
      "[159990 rows x 6 columns]\n",
      "<class 'numpy.ndarray'>\n"
     ]
    },
    {
     "name": "stderr",
     "output_type": "stream",
     "text": [
      "/var/folders/6j/zq70vzjs0ggcjv4q8z1llhmm0000gn/T/ipykernel_60419/737167292.py:25: SettingWithCopyWarning: \n",
      "A value is trying to be set on a copy of a slice from a DataFrame.\n",
      "Try using .loc[row_indexer,col_indexer] = value instead\n",
      "\n",
      "See the caveats in the documentation: https://pandas.pydata.org/pandas-docs/stable/user_guide/indexing.html#returning-a-view-versus-a-copy\n",
      "  X['date'] = pd.to_datetime(X['pickup_datetime'])\n",
      "/var/folders/6j/zq70vzjs0ggcjv4q8z1llhmm0000gn/T/ipykernel_60419/737167292.py:26: SettingWithCopyWarning: \n",
      "A value is trying to be set on a copy of a slice from a DataFrame.\n",
      "Try using .loc[row_indexer,col_indexer] = value instead\n",
      "\n",
      "See the caveats in the documentation: https://pandas.pydata.org/pandas-docs/stable/user_guide/indexing.html#returning-a-view-versus-a-copy\n",
      "  X['day'] = X['date'].dt.dayofweek\n",
      "/var/folders/6j/zq70vzjs0ggcjv4q8z1llhmm0000gn/T/ipykernel_60419/737167292.py:27: SettingWithCopyWarning: \n",
      "A value is trying to be set on a copy of a slice from a DataFrame.\n",
      "Try using .loc[row_indexer,col_indexer] = value instead\n",
      "\n",
      "See the caveats in the documentation: https://pandas.pydata.org/pandas-docs/stable/user_guide/indexing.html#returning-a-view-versus-a-copy\n",
      "  X['hour'] = X['date'].dt.hour\n",
      "/var/folders/6j/zq70vzjs0ggcjv4q8z1llhmm0000gn/T/ipykernel_60419/737167292.py:29: SettingWithCopyWarning: \n",
      "A value is trying to be set on a copy of a slice from a DataFrame.\n",
      "Try using .loc[row_indexer,col_indexer] = value instead\n",
      "\n",
      "See the caveats in the documentation: https://pandas.pydata.org/pandas-docs/stable/user_guide/indexing.html#returning-a-view-versus-a-copy\n",
      "  X['weekend'] = X['day'].apply(lambda x: 1 if x in [5,6] else 0)\n",
      "/var/folders/6j/zq70vzjs0ggcjv4q8z1llhmm0000gn/T/ipykernel_60419/737167292.py:31: SettingWithCopyWarning: \n",
      "A value is trying to be set on a copy of a slice from a DataFrame.\n",
      "Try using .loc[row_indexer,col_indexer] = value instead\n",
      "\n",
      "See the caveats in the documentation: https://pandas.pydata.org/pandas-docs/stable/user_guide/indexing.html#returning-a-view-versus-a-copy\n",
      "  X['hour_sin'] = np.sin(2*np.pi*X['hour']/24)\n",
      "/var/folders/6j/zq70vzjs0ggcjv4q8z1llhmm0000gn/T/ipykernel_60419/737167292.py:32: SettingWithCopyWarning: \n",
      "A value is trying to be set on a copy of a slice from a DataFrame.\n",
      "Try using .loc[row_indexer,col_indexer] = value instead\n",
      "\n",
      "See the caveats in the documentation: https://pandas.pydata.org/pandas-docs/stable/user_guide/indexing.html#returning-a-view-versus-a-copy\n",
      "  X['hour_cos'] = np.cos(2*np.pi*X['hour']/24)\n",
      "/var/folders/6j/zq70vzjs0ggcjv4q8z1llhmm0000gn/T/ipykernel_60419/737167292.py:33: SettingWithCopyWarning: \n",
      "A value is trying to be set on a copy of a slice from a DataFrame\n",
      "\n",
      "See the caveats in the documentation: https://pandas.pydata.org/pandas-docs/stable/user_guide/indexing.html#returning-a-view-versus-a-copy\n",
      "  X.drop(['pickup_datetime', 'date', 'day', 'pickup_latitude', 'pickup_longitude', 'dropoff_latitude', 'dropoff_longitude', 'Unnamed: 0', 'key' ], axis=1, inplace=True)\n"
     ]
    }
   ],
   "source": [
    "prepared_data = transformer_pipeline.fit_transform(uber)"
   ]
  },
  {
   "cell_type": "code",
   "execution_count": null,
   "metadata": {},
   "outputs": [
    {
     "data": {
      "text/plain": [
       "array([[ 1.        ,  2.52496014, 21.        ,  0.        , -0.70710678,\n",
       "         0.70710678],\n",
       "       [ 1.        ,  9.14107712, 22.        ,  0.        , -0.5       ,\n",
       "         0.8660254 ],\n",
       "       [ 1.        ,  0.7940764 ,  8.        ,  1.        ,  0.8660254 ,\n",
       "        -0.5       ],\n",
       "       ...,\n",
       "       [ 1.        ,  1.7404855 , 13.        ,  1.        , -0.25881905,\n",
       "        -0.96592583],\n",
       "       [ 5.        ,  0.61762778, 19.        ,  0.        , -0.96592583,\n",
       "         0.25881905],\n",
       "       [ 2.        ,  1.87409437,  9.        ,  1.        ,  0.70710678,\n",
       "        -0.70710678]])"
      ]
     },
     "execution_count": 245,
     "metadata": {},
     "output_type": "execute_result"
    }
   ],
   "source": [
    "prepared_data"
   ]
  },
  {
   "cell_type": "markdown",
   "metadata": {},
   "source": [
    "### Linear Regression"
   ]
  },
  {
   "cell_type": "code",
   "execution_count": null,
   "metadata": {},
   "outputs": [
    {
     "data": {
      "text/plain": [
       "LinearRegression()"
      ]
     },
     "execution_count": 260,
     "metadata": {},
     "output_type": "execute_result"
    }
   ],
   "source": [
    "from sklearn.linear_model import LinearRegression\n",
    "\n",
    "lin_reg = LinearRegression()\n",
    "lin_reg.fit(prepared_data, uber_labels)"
   ]
  },
  {
   "cell_type": "code",
   "execution_count": null,
   "metadata": {},
   "outputs": [
    {
     "name": "stdout",
     "output_type": "stream",
     "text": [
      "        passenger_count  distance_mi  hour  weekend  hour_sin  hour_cos\n",
      "153248                1     2.524960    21        0 -0.707107  0.707107\n",
      "67802                 1     9.141077    22        0 -0.500000  0.866025\n",
      "148889                1     0.794076     8        1  0.866025 -0.500000\n",
      "103093                2     0.234025    23        1 -0.258819  0.965926\n",
      "104681                1    12.589486    13        1 -0.258819 -0.965926\n",
      "<class 'numpy.ndarray'>\n",
      "Predictions: [11.08944289 11.064062   11.42040281 11.05807565 11.25535426]\n"
     ]
    }
   ],
   "source": [
    "some_data = uber.iloc[:5]\n",
    "some_labels = uber_labels.iloc[:5]\n",
    "some_data_prepared = transformer_pipeline.transform(some_data)\n",
    "\n",
    "print(\"Predictions:\", lin_reg.predict(some_data_prepared))"
   ]
  },
  {
   "cell_type": "code",
   "execution_count": null,
   "metadata": {},
   "outputs": [
    {
     "name": "stdout",
     "output_type": "stream",
     "text": [
      "Labels:  [12.1, 32.5, 6.0, 15.3, 52.0]\n"
     ]
    }
   ],
   "source": [
    "print('Labels: ', list(some_labels))"
   ]
  },
  {
   "cell_type": "markdown",
   "metadata": {},
   "source": [
    "### Mean Squared Error"
   ]
  },
  {
   "cell_type": "code",
   "execution_count": null,
   "metadata": {},
   "outputs": [
    {
     "data": {
      "text/plain": [
       "9.79115142332046"
      ]
     },
     "execution_count": 266,
     "metadata": {},
     "output_type": "execute_result"
    }
   ],
   "source": [
    "from sklearn.metrics import mean_squared_error\n",
    "\n",
    "uber_predictions = lin_reg.predict(prepared_data)\n",
    "lin_mse = mean_squared_error(uber_labels, uber_predictions)\n",
    "lin_rmse = np.sqrt(lin_mse)\n",
    "lin_rmse"
   ]
  },
  {
   "cell_type": "markdown",
   "metadata": {},
   "source": [
    "#### Mean Absolute Error"
   ]
  },
  {
   "cell_type": "code",
   "execution_count": null,
   "metadata": {},
   "outputs": [
    {
     "data": {
      "text/plain": [
       "6.023829793519502"
      ]
     },
     "execution_count": 269,
     "metadata": {},
     "output_type": "execute_result"
    }
   ],
   "source": [
    "from sklearn.metrics import mean_absolute_error\n",
    "\n",
    "lin_mae = mean_absolute_error(uber_labels, uber_predictions)\n",
    "lin_mae"
   ]
  },
  {
   "cell_type": "markdown",
   "metadata": {},
   "source": [
    "### Decision Tree Regression"
   ]
  },
  {
   "cell_type": "code",
   "execution_count": null,
   "metadata": {},
   "outputs": [
    {
     "data": {
      "text/plain": [
       "DecisionTreeRegressor(random_state=42)"
      ]
     },
     "execution_count": 270,
     "metadata": {},
     "output_type": "execute_result"
    }
   ],
   "source": [
    "from sklearn.tree import DecisionTreeRegressor\n",
    "\n",
    "tree_reg = DecisionTreeRegressor(random_state=42)\n",
    "tree_reg.fit(prepared_data, uber_labels)"
   ]
  },
  {
   "cell_type": "code",
   "execution_count": null,
   "metadata": {},
   "outputs": [
    {
     "data": {
      "text/plain": [
       "2.1396877977095756"
      ]
     },
     "execution_count": 271,
     "metadata": {},
     "output_type": "execute_result"
    }
   ],
   "source": [
    "uber_predictions = tree_reg.predict(prepared_data)\n",
    "tree_mse = mean_squared_error(uber_labels, uber_predictions)\n",
    "tree_rmse = np.sqrt(tree_mse)\n",
    "tree_rmse"
   ]
  },
  {
   "cell_type": "markdown",
   "metadata": {},
   "source": [
    "### k-fold cross Validation"
   ]
  },
  {
   "cell_type": "code",
   "execution_count": null,
   "metadata": {},
   "outputs": [],
   "source": [
    "from sklearn.model_selection import cross_val_score\n",
    "\n",
    "scores = cross_val_score(tree_reg, prepared_data, uber_labels, scoring=\"neg_mean_squared_error\", cv=10)\n",
    "tree_rmse_scores = np.sqrt(-scores)"
   ]
  },
  {
   "cell_type": "code",
   "execution_count": null,
   "metadata": {},
   "outputs": [
    {
     "name": "stdout",
     "output_type": "stream",
     "text": [
      "Scores: [7.39641713 6.29963515 6.78587942 6.4688725  6.76500174 6.40713228\n",
      " 6.54561148 6.706662   6.91677134 6.31631911]\n",
      "Mean: 6.660830215269638\n",
      "Standard deviation: 0.31604098949692344\n"
     ]
    }
   ],
   "source": [
    "def display_scores(scores):\n",
    "    print(\"Scores:\", scores)\n",
    "    print(\"Mean:\", scores.mean())\n",
    "    print(\"Standard deviation:\", scores.std())\n",
    "\n",
    "display_scores(tree_rmse_scores)"
   ]
  },
  {
   "cell_type": "code",
   "execution_count": null,
   "metadata": {},
   "outputs": [
    {
     "name": "stdout",
     "output_type": "stream",
     "text": [
      "Scores: [10.20464933  9.4786644   9.7800398   9.49833817  9.98878978  9.83909456\n",
      "  9.85109201  9.801485    9.81650057  9.63590659]\n",
      "Mean: 9.789456020049384\n",
      "Standard deviation: 0.2059770966955579\n"
     ]
    }
   ],
   "source": [
    "lin_scores = cross_val_score(lin_reg, prepared_data, uber_labels, scoring=\"neg_mean_squared_error\", cv=10)\n",
    "lin_rmse_scores = np.sqrt(-lin_scores)\n",
    "display_scores(lin_rmse_scores)"
   ]
  },
  {
   "cell_type": "markdown",
   "metadata": {},
   "source": [
    "### Stratified K-fold Cross Validation"
   ]
  },
  {
   "cell_type": "code",
   "execution_count": null,
   "metadata": {},
   "outputs": [
    {
     "name": "stdout",
     "output_type": "stream",
     "text": [
      "[0.71638852 0.28361148 0.71638852 ... 0.28361148 0.71638852 0.28361148]\n",
      "[0.71638852 0.28361148 0.28361148 ... 0.71638852 0.71638852 0.71638852]\n",
      "[0.28363023 0.71636977 0.28363023 ... 0.71636977 0.71636977 0.28363023]\n"
     ]
    }
   ],
   "source": [
    "from sklearn.model_selection import StratifiedKFold\n",
    "weekend_col = prepared_data[:, [3]]\n",
    "skfolds = StratifiedKFold(n_splits=3, shuffle=True, random_state=42)\n",
    "\n",
    "for train_index, test_index in skfolds.split(prepared_data, weekend_col):\n",
    "    X_train_folds = prepared_data[train_index]\n",
    "    y_train_folds = weekend_col[train_index]\n",
    "    X_test_fold = prepared_data[test_index]\n",
    "    y_test_fold = weekend_col[test_index]\n",
    "\n",
    "    tree_reg_copy = DecisionTreeRegressor(random_state=42)\n",
    "    tree_reg_copy.fit(X_train_folds, y_train_folds)\n",
    "    y_pred = tree_reg_copy.predict(X_test_fold)\n",
    "  \n",
    "    n_correct = sum(y_pred == y_test_fold)\n",
    "    print(n_correct / len(y_pred))"
   ]
  },
  {
   "cell_type": "markdown",
   "metadata": {},
   "source": [
    "### Random Forest Regressor"
   ]
  },
  {
   "cell_type": "code",
   "execution_count": null,
   "metadata": {},
   "outputs": [
    {
     "data": {
      "text/plain": [
       "RandomForestRegressor(random_state=42)"
      ]
     },
     "execution_count": 275,
     "metadata": {},
     "output_type": "execute_result"
    }
   ],
   "source": [
    "from sklearn.ensemble import RandomForestRegressor\n",
    "\n",
    "forest_reg = RandomForestRegressor(n_estimators=100, random_state=42)\n",
    "forest_reg.fit(prepared_data, uber_labels)"
   ]
  },
  {
   "cell_type": "code",
   "execution_count": null,
   "metadata": {},
   "outputs": [
    {
     "data": {
      "text/plain": [
       "2.7936063081934366"
      ]
     },
     "execution_count": 276,
     "metadata": {},
     "output_type": "execute_result"
    }
   ],
   "source": [
    "uber_predictions = forest_reg.predict(prepared_data)\n",
    "forest_mse = mean_squared_error(uber_labels, uber_predictions)\n",
    "forest_rmse = np.sqrt(forest_mse)\n",
    "forest_rmse"
   ]
  },
  {
   "cell_type": "markdown",
   "metadata": {},
   "source": [
    "### Grid Search"
   ]
  },
  {
   "cell_type": "code",
   "execution_count": null,
   "metadata": {},
   "outputs": [
    {
     "name": "stderr",
     "output_type": "stream",
     "text": [
      "/opt/homebrew/lib/python3.9/site-packages/sklearn/model_selection/_validation.py:372: FitFailedWarning: \n",
      "15 fits failed out of a total of 60.\n",
      "The score on these train-test partitions for these parameters will be set to nan.\n",
      "If these failures are not expected, you can try to debug them by setting error_score='raise'.\n",
      "\n",
      "Below are more details about the failures:\n",
      "--------------------------------------------------------------------------------\n",
      "15 fits failed with the following error:\n",
      "Traceback (most recent call last):\n",
      "  File \"/opt/homebrew/lib/python3.9/site-packages/sklearn/model_selection/_validation.py\", line 680, in _fit_and_score\n",
      "    estimator.fit(X_train, y_train, **fit_params)\n",
      "  File \"/opt/homebrew/lib/python3.9/site-packages/sklearn/tree/_classes.py\", line 1315, in fit\n",
      "    super().fit(\n",
      "  File \"/opt/homebrew/lib/python3.9/site-packages/sklearn/tree/_classes.py\", line 308, in fit\n",
      "    raise ValueError(\"max_features must be in (0, n_features]\")\n",
      "ValueError: max_features must be in (0, n_features]\n",
      "\n",
      "  warnings.warn(some_fits_failed_message, FitFailedWarning)\n",
      "/opt/homebrew/lib/python3.9/site-packages/sklearn/model_selection/_search.py:969: UserWarning: One or more of the test scores are non-finite: [-40.14337711 -25.82828521 -25.59265267          nan -35.87805565\n",
      " -26.31861312 -27.14301789          nan -31.80480773 -29.4982654\n",
      " -29.80059122          nan]\n",
      "  warnings.warn(\n",
      "/opt/homebrew/lib/python3.9/site-packages/sklearn/model_selection/_search.py:969: UserWarning: One or more of the train scores are non-finite: [-38.23652967 -23.60874721 -22.88353305          nan -31.45133565\n",
      " -21.88632644 -21.00470028          nan -22.71847579 -19.3467782\n",
      " -18.39001465          nan]\n",
      "  warnings.warn(\n"
     ]
    },
    {
     "data": {
      "text/plain": [
       "GridSearchCV(cv=5, estimator=DecisionTreeRegressor(random_state=42),\n",
       "             param_grid=[{'max_depth': [8, 10, 12],\n",
       "                          'max_features': [2, 4, 6, 8]}],\n",
       "             return_train_score=True, scoring='neg_mean_squared_error')"
      ]
     },
     "execution_count": 287,
     "metadata": {},
     "output_type": "execute_result"
    }
   ],
   "source": [
    "from sklearn.model_selection import GridSearchCV\n",
    "\n",
    "param_grid = [\n",
    "    # try 12 (3×4) combinations of hyperparameters\n",
    "    {'max_depth': [8, 10, 12], 'max_features': [2, 4, 6, 8]},\n",
    "  ]\n",
    "\n",
    "descision_tree_reg = DecisionTreeRegressor(random_state=42)\n",
    "# train across 5 folds, that's a total of (12+6)*5=90 rounds of training \n",
    "grid_search = GridSearchCV(descision_tree_reg, param_grid, cv=5,\n",
    "                           scoring='neg_mean_squared_error',\n",
    "                           return_train_score=True)\n",
    "grid_search.fit(prepared_data, uber_labels)"
   ]
  },
  {
   "cell_type": "code",
   "execution_count": null,
   "metadata": {},
   "outputs": [
    {
     "data": {
      "text/plain": [
       "{'max_depth': 8, 'max_features': 6}"
      ]
     },
     "execution_count": 288,
     "metadata": {},
     "output_type": "execute_result"
    }
   ],
   "source": [
    "grid_search.best_params_"
   ]
  },
  {
   "cell_type": "code",
   "execution_count": null,
   "metadata": {},
   "outputs": [
    {
     "data": {
      "text/plain": [
       "DecisionTreeRegressor(max_depth=8, max_features=6, random_state=42)"
      ]
     },
     "execution_count": 289,
     "metadata": {},
     "output_type": "execute_result"
    }
   ],
   "source": [
    "grid_search.best_estimator_"
   ]
  },
  {
   "cell_type": "code",
   "execution_count": null,
   "metadata": {},
   "outputs": [
    {
     "name": "stdout",
     "output_type": "stream",
     "text": [
      "6.335880136634358 {'max_depth': 8, 'max_features': 2}\n",
      "5.0821535994430365 {'max_depth': 8, 'max_features': 4}\n",
      "5.0589181326279276 {'max_depth': 8, 'max_features': 6}\n",
      "nan {'max_depth': 8, 'max_features': 8}\n",
      "5.989829350787275 {'max_depth': 10, 'max_features': 2}\n",
      "5.130166967890694 {'max_depth': 10, 'max_features': 4}\n",
      "5.209896149998741 {'max_depth': 10, 'max_features': 6}\n",
      "nan {'max_depth': 10, 'max_features': 8}\n",
      "5.639575137425948 {'max_depth': 12, 'max_features': 2}\n",
      "5.4312305601740665 {'max_depth': 12, 'max_features': 4}\n",
      "5.458991776923341 {'max_depth': 12, 'max_features': 6}\n",
      "nan {'max_depth': 12, 'max_features': 8}\n"
     ]
    }
   ],
   "source": [
    "cvres = grid_search.cv_results_\n",
    "for mean_score, params in zip(cvres[\"mean_test_score\"], cvres[\"params\"]):\n",
    "    print(np.sqrt(-mean_score), params)"
   ]
  },
  {
   "cell_type": "code",
   "execution_count": null,
   "metadata": {},
   "outputs": [
    {
     "data": {
      "text/plain": [
       "array([5.47272889e-04, 9.83352881e-01, 3.07535887e-03, 2.00428907e-03,\n",
       "       2.77988878e-03, 8.24030935e-03])"
      ]
     },
     "execution_count": 291,
     "metadata": {},
     "output_type": "execute_result"
    }
   ],
   "source": [
    "feature_importances = grid_search.best_estimator_.feature_importances_\n",
    "feature_importances"
   ]
  },
  {
   "cell_type": "markdown",
   "metadata": {},
   "source": [
    "### Evaluate on Test Set"
   ]
  },
  {
   "cell_type": "code",
   "execution_count": null,
   "metadata": {},
   "outputs": [],
   "source": [
    "test_set = cleanData(test_set)"
   ]
  },
  {
   "cell_type": "code",
   "execution_count": null,
   "metadata": {},
   "outputs": [
    {
     "name": "stdout",
     "output_type": "stream",
     "text": [
      "        passenger_count  distance_mi  hour  weekend  hour_sin      hour_cos\n",
      "119737                1     0.579275    23        0 -0.258819  9.659258e-01\n",
      "72272                 5     0.000000    21        1 -0.707107  7.071068e-01\n",
      "158154                5     1.276404    18        0 -1.000000 -1.836970e-16\n",
      "65426                 3     5.159114    20        0 -0.866025  5.000000e-01\n",
      "30074                 1     0.487301     8        0  0.866025 -5.000000e-01\n",
      "...                 ...          ...   ...      ...       ...           ...\n",
      "4174                  1     0.719447     0        1  0.000000  1.000000e+00\n",
      "91537                 1     2.982284     8        0  0.866025 -5.000000e-01\n",
      "156449                2     0.390481    11        0  0.258819 -9.659258e-01\n",
      "184376                1     0.745238    13        0 -0.258819 -9.659258e-01\n",
      "6584                  1     0.940717     8        0  0.866025 -5.000000e-01\n",
      "\n",
      "[39997 rows x 6 columns]\n",
      "<class 'numpy.ndarray'>\n"
     ]
    }
   ],
   "source": [
    "final_model = grid_search.best_estimator_\n",
    "\n",
    "X_test = test_set.drop(\"fare_amount\", axis=1)\n",
    "y_test = test_set[\"fare_amount\"].copy()\n",
    "\n",
    "X_test_prepared = transformer_pipeline.fit_transform(X_test)\n",
    "final_predictions = final_model.predict(X_test_prepared)\n",
    "\n",
    "final_mse = mean_squared_error(y_test, final_predictions)\n",
    "final_rmse = np.sqrt(final_mse)"
   ]
  },
  {
   "cell_type": "code",
   "execution_count": null,
   "metadata": {},
   "outputs": [
    {
     "data": {
      "text/plain": [
       "5.937265878785344"
      ]
     },
     "execution_count": 299,
     "metadata": {},
     "output_type": "execute_result"
    }
   ],
   "source": [
    "final_rmse"
   ]
  },
  {
   "cell_type": "code",
   "execution_count": null,
   "metadata": {},
   "outputs": [
    {
     "data": {
      "text/plain": [
       "array([4.80305095, 6.88715862])"
      ]
     },
     "execution_count": 300,
     "metadata": {},
     "output_type": "execute_result"
    }
   ],
   "source": [
    "from scipy import stats\n",
    "\n",
    "confidence = 0.95\n",
    "squared_errors = (final_predictions - y_test) ** 2\n",
    "np.sqrt(stats.t.interval(confidence, len(squared_errors) - 1,\n",
    "                         loc=squared_errors.mean(),\n",
    "                         scale=stats.sem(squared_errors)))"
   ]
  },
  {
   "cell_type": "code",
   "execution_count": null,
   "metadata": {},
   "outputs": [
    {
     "data": {
      "text/html": [
       "<div>\n",
       "<style scoped>\n",
       "    .dataframe tbody tr th:only-of-type {\n",
       "        vertical-align: middle;\n",
       "    }\n",
       "\n",
       "    .dataframe tbody tr th {\n",
       "        vertical-align: top;\n",
       "    }\n",
       "\n",
       "    .dataframe thead th {\n",
       "        text-align: right;\n",
       "    }\n",
       "</style>\n",
       "<table border=\"1\" class=\"dataframe\">\n",
       "  <thead>\n",
       "    <tr style=\"text-align: right;\">\n",
       "      <th></th>\n",
       "      <th>Unnamed: 0</th>\n",
       "      <th>key</th>\n",
       "      <th>fare_amount</th>\n",
       "      <th>pickup_datetime</th>\n",
       "      <th>pickup_longitude</th>\n",
       "      <th>pickup_latitude</th>\n",
       "      <th>dropoff_longitude</th>\n",
       "      <th>dropoff_latitude</th>\n",
       "      <th>passenger_count</th>\n",
       "      <th>date</th>\n",
       "      <th>day</th>\n",
       "      <th>hour</th>\n",
       "      <th>weekend</th>\n",
       "      <th>sin_time</th>\n",
       "      <th>cos_time</th>\n",
       "    </tr>\n",
       "  </thead>\n",
       "  <tbody>\n",
       "    <tr>\n",
       "      <th>153248</th>\n",
       "      <td>17778666</td>\n",
       "      <td>2009-11-19 21:59:00.00000086</td>\n",
       "      <td>12.1</td>\n",
       "      <td>2009-11-19 21:59:00 UTC</td>\n",
       "      <td>-73.978585</td>\n",
       "      <td>40.748388</td>\n",
       "      <td>-73.976913</td>\n",
       "      <td>40.784958</td>\n",
       "      <td>1</td>\n",
       "      <td>2009-11-19 21:59:00+00:00</td>\n",
       "      <td>3</td>\n",
       "      <td>21</td>\n",
       "      <td>no</td>\n",
       "      <td>-0.707107</td>\n",
       "      <td>0.707107</td>\n",
       "    </tr>\n",
       "    <tr>\n",
       "      <th>67802</th>\n",
       "      <td>54334677</td>\n",
       "      <td>2013-02-27 22:29:15.0000004</td>\n",
       "      <td>32.5</td>\n",
       "      <td>2013-02-27 22:29:15 UTC</td>\n",
       "      <td>-73.978198</td>\n",
       "      <td>40.752533</td>\n",
       "      <td>-73.909752</td>\n",
       "      <td>40.874372</td>\n",
       "      <td>1</td>\n",
       "      <td>2013-02-27 22:29:15+00:00</td>\n",
       "      <td>2</td>\n",
       "      <td>22</td>\n",
       "      <td>no</td>\n",
       "      <td>-0.500000</td>\n",
       "      <td>0.866025</td>\n",
       "    </tr>\n",
       "    <tr>\n",
       "      <th>148889</th>\n",
       "      <td>11815656</td>\n",
       "      <td>2014-06-01 08:48:00.00000094</td>\n",
       "      <td>6.0</td>\n",
       "      <td>2014-06-01 08:48:00 UTC</td>\n",
       "      <td>-73.994242</td>\n",
       "      <td>40.751227</td>\n",
       "      <td>-73.999432</td>\n",
       "      <td>40.762037</td>\n",
       "      <td>1</td>\n",
       "      <td>2014-06-01 08:48:00+00:00</td>\n",
       "      <td>6</td>\n",
       "      <td>8</td>\n",
       "      <td>yes</td>\n",
       "      <td>0.866025</td>\n",
       "      <td>-0.500000</td>\n",
       "    </tr>\n",
       "    <tr>\n",
       "      <th>103093</th>\n",
       "      <td>28734805</td>\n",
       "      <td>2010-07-10 23:10:00.00000019</td>\n",
       "      <td>15.3</td>\n",
       "      <td>2010-07-10 23:10:00 UTC</td>\n",
       "      <td>-73.951705</td>\n",
       "      <td>40.778330</td>\n",
       "      <td>-73.956050</td>\n",
       "      <td>40.777560</td>\n",
       "      <td>2</td>\n",
       "      <td>2010-07-10 23:10:00+00:00</td>\n",
       "      <td>5</td>\n",
       "      <td>23</td>\n",
       "      <td>yes</td>\n",
       "      <td>-0.258819</td>\n",
       "      <td>0.965926</td>\n",
       "    </tr>\n",
       "    <tr>\n",
       "      <th>104681</th>\n",
       "      <td>54482655</td>\n",
       "      <td>2013-09-29 13:36:00.000000167</td>\n",
       "      <td>52.0</td>\n",
       "      <td>2013-09-29 13:36:00 UTC</td>\n",
       "      <td>-73.989120</td>\n",
       "      <td>40.736932</td>\n",
       "      <td>-73.782890</td>\n",
       "      <td>40.643947</td>\n",
       "      <td>1</td>\n",
       "      <td>2013-09-29 13:36:00+00:00</td>\n",
       "      <td>6</td>\n",
       "      <td>13</td>\n",
       "      <td>yes</td>\n",
       "      <td>-0.258819</td>\n",
       "      <td>-0.965926</td>\n",
       "    </tr>\n",
       "  </tbody>\n",
       "</table>\n",
       "</div>"
      ],
      "text/plain": [
       "        Unnamed: 0                            key  fare_amount  \\\n",
       "153248    17778666   2009-11-19 21:59:00.00000086         12.1   \n",
       "67802     54334677    2013-02-27 22:29:15.0000004         32.5   \n",
       "148889    11815656   2014-06-01 08:48:00.00000094          6.0   \n",
       "103093    28734805   2010-07-10 23:10:00.00000019         15.3   \n",
       "104681    54482655  2013-09-29 13:36:00.000000167         52.0   \n",
       "\n",
       "                pickup_datetime  pickup_longitude  pickup_latitude  \\\n",
       "153248  2009-11-19 21:59:00 UTC        -73.978585        40.748388   \n",
       "67802   2013-02-27 22:29:15 UTC        -73.978198        40.752533   \n",
       "148889  2014-06-01 08:48:00 UTC        -73.994242        40.751227   \n",
       "103093  2010-07-10 23:10:00 UTC        -73.951705        40.778330   \n",
       "104681  2013-09-29 13:36:00 UTC        -73.989120        40.736932   \n",
       "\n",
       "        dropoff_longitude  dropoff_latitude  passenger_count  \\\n",
       "153248         -73.976913         40.784958                1   \n",
       "67802          -73.909752         40.874372                1   \n",
       "148889         -73.999432         40.762037                1   \n",
       "103093         -73.956050         40.777560                2   \n",
       "104681         -73.782890         40.643947                1   \n",
       "\n",
       "                            date  day  hour weekend  sin_time  cos_time  \n",
       "153248 2009-11-19 21:59:00+00:00    3    21      no -0.707107  0.707107  \n",
       "67802  2013-02-27 22:29:15+00:00    2    22      no -0.500000  0.866025  \n",
       "148889 2014-06-01 08:48:00+00:00    6     8     yes  0.866025 -0.500000  \n",
       "103093 2010-07-10 23:10:00+00:00    5    23     yes -0.258819  0.965926  \n",
       "104681 2013-09-29 13:36:00+00:00    6    13     yes -0.258819 -0.965926  "
      ]
     },
     "execution_count": 49,
     "metadata": {},
     "output_type": "execute_result"
    }
   ],
   "source": [
    "hour_in_day = 24\n",
    "test['sin_time'] = np.sin(2*np.pi*test.hour/hour_in_day)\n",
    "test['cos_time'] = np.cos(2*np.pi*test.hour/hour_in_day)\n",
    "test.head()"
   ]
  },
  {
   "cell_type": "code",
   "execution_count": null,
   "metadata": {},
   "outputs": [
    {
     "data": {
      "image/png": "[encoded data removed]",
      "text/plain": [
       "<Figure size 432x288 with 1 Axes>"
      ]
     },
     "metadata": {
      "needs_background": "light"
     },
     "output_type": "display_data"
    }
   ],
   "source": [
    "test.sample(100).plot.scatter('sin_time','cos_time').set_aspect('equal');"
   ]
  },
  {
   "cell_type": "code",
   "execution_count": null,
   "metadata": {},
   "outputs": [],
   "source": []
  }
 ],
 "metadata": {
  "interpreter": {
   "hash": "b0fa6594d8f4cbf19f97940f81e996739fb7646882a419484c72d19e05852a7e"
  },
  "kernelspec": {
   "display_name": "Python 3.9.10 64-bit",
   "language": "python",
   "name": "python3"
  },
  "language_info": {
   "codemirror_mode": {
    "name": "ipython",
    "version": 3
   },
   "file_extension": ".py",
   "mimetype": "text/x-python",
   "name": "python",
   "nbconvert_exporter": "python",
   "pygments_lexer": "ipython3",
   "version": "3.9.10"
  },
  "orig_nbformat": 4
 },
 "nbformat": 4,
 "nbformat_minor": 2
}
